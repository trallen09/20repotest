{
 "cells": [
  {
   "cell_type": "code",
   "execution_count": 1,
   "id": "c03327c5",
   "metadata": {},
   "outputs": [],
   "source": [
    "import pandas as pd\n",
    "from pathlib import Path\n",
    "import matplotlib.pyplot as plt\n",
    "from sklearn.linear_model import LinearRegression\n",
    "from sklearn.preprocessing import OrdinalEncoder\n",
    "import datetime as dt\n",
    "from sklearn.model_selection import train_test_split\n",
    "import sqlalchemy as sqla\n",
    "import datetime as dt"
   ]
  },
  {
   "cell_type": "code",
   "execution_count": 2,
   "id": "d84d8680",
   "metadata": {},
   "outputs": [],
   "source": [
    "db = sqla.create_engine('sqlite:///zillow.db')\n",
    "df = pd.read_sql('SELECT * FROM zillow', db,parse_dates=['Date'])"
   ]
  },
  {
   "cell_type": "code",
   "execution_count": 3,
   "id": "e95c0fdc",
   "metadata": {},
   "outputs": [
    {
     "data": {
      "text/html": [
       "<div>\n",
       "<style scoped>\n",
       "    .dataframe tbody tr th:only-of-type {\n",
       "        vertical-align: middle;\n",
       "    }\n",
       "\n",
       "    .dataframe tbody tr th {\n",
       "        vertical-align: top;\n",
       "    }\n",
       "\n",
       "    .dataframe thead th {\n",
       "        text-align: right;\n",
       "    }\n",
       "</style>\n",
       "<table border=\"1\" class=\"dataframe\">\n",
       "  <thead>\n",
       "    <tr style=\"text-align: right;\">\n",
       "      <th></th>\n",
       "      <th>Bedrooms</th>\n",
       "      <th>RegionName</th>\n",
       "      <th>Date</th>\n",
       "      <th>Price</th>\n",
       "      <th>DeltaDate</th>\n",
       "    </tr>\n",
       "  </thead>\n",
       "  <tbody>\n",
       "    <tr>\n",
       "      <th>0</th>\n",
       "      <td>0</td>\n",
       "      <td>Memphis</td>\n",
       "      <td>1996-01-31</td>\n",
       "      <td>75490</td>\n",
       "      <td>9321</td>\n",
       "    </tr>\n",
       "    <tr>\n",
       "      <th>1</th>\n",
       "      <td>0</td>\n",
       "      <td>Memphis</td>\n",
       "      <td>1996-02-29</td>\n",
       "      <td>75633</td>\n",
       "      <td>9292</td>\n",
       "    </tr>\n",
       "    <tr>\n",
       "      <th>2</th>\n",
       "      <td>0</td>\n",
       "      <td>Memphis</td>\n",
       "      <td>1996-03-31</td>\n",
       "      <td>75801</td>\n",
       "      <td>9261</td>\n",
       "    </tr>\n",
       "    <tr>\n",
       "      <th>3</th>\n",
       "      <td>0</td>\n",
       "      <td>Memphis</td>\n",
       "      <td>1996-04-30</td>\n",
       "      <td>76142</td>\n",
       "      <td>9231</td>\n",
       "    </tr>\n",
       "    <tr>\n",
       "      <th>4</th>\n",
       "      <td>0</td>\n",
       "      <td>Memphis</td>\n",
       "      <td>1996-05-31</td>\n",
       "      <td>76524</td>\n",
       "      <td>9200</td>\n",
       "    </tr>\n",
       "    <tr>\n",
       "      <th>...</th>\n",
       "      <td>...</td>\n",
       "      <td>...</td>\n",
       "      <td>...</td>\n",
       "      <td>...</td>\n",
       "      <td>...</td>\n",
       "    </tr>\n",
       "    <tr>\n",
       "      <th>642976</th>\n",
       "      <td>5</td>\n",
       "      <td>Braden</td>\n",
       "      <td>2019-11-30</td>\n",
       "      <td>266558</td>\n",
       "      <td>617</td>\n",
       "    </tr>\n",
       "    <tr>\n",
       "      <th>642977</th>\n",
       "      <td>5</td>\n",
       "      <td>Braden</td>\n",
       "      <td>2019-12-31</td>\n",
       "      <td>269833</td>\n",
       "      <td>586</td>\n",
       "    </tr>\n",
       "    <tr>\n",
       "      <th>642978</th>\n",
       "      <td>5</td>\n",
       "      <td>Braden</td>\n",
       "      <td>2020-01-31</td>\n",
       "      <td>271472</td>\n",
       "      <td>555</td>\n",
       "    </tr>\n",
       "    <tr>\n",
       "      <th>642979</th>\n",
       "      <td>5</td>\n",
       "      <td>Braden</td>\n",
       "      <td>2020-02-29</td>\n",
       "      <td>276641</td>\n",
       "      <td>526</td>\n",
       "    </tr>\n",
       "    <tr>\n",
       "      <th>642980</th>\n",
       "      <td>5</td>\n",
       "      <td>Braden</td>\n",
       "      <td>2020-03-31</td>\n",
       "      <td>281210</td>\n",
       "      <td>495</td>\n",
       "    </tr>\n",
       "  </tbody>\n",
       "</table>\n",
       "<p>642981 rows × 5 columns</p>\n",
       "</div>"
      ],
      "text/plain": [
       "        Bedrooms RegionName       Date   Price  DeltaDate\n",
       "0              0    Memphis 1996-01-31   75490       9321\n",
       "1              0    Memphis 1996-02-29   75633       9292\n",
       "2              0    Memphis 1996-03-31   75801       9261\n",
       "3              0    Memphis 1996-04-30   76142       9231\n",
       "4              0    Memphis 1996-05-31   76524       9200\n",
       "...          ...        ...        ...     ...        ...\n",
       "642976         5     Braden 2019-11-30  266558        617\n",
       "642977         5     Braden 2019-12-31  269833        586\n",
       "642978         5     Braden 2020-01-31  271472        555\n",
       "642979         5     Braden 2020-02-29  276641        526\n",
       "642980         5     Braden 2020-03-31  281210        495\n",
       "\n",
       "[642981 rows x 5 columns]"
      ]
     },
     "execution_count": 3,
     "metadata": {},
     "output_type": "execute_result"
    }
   ],
   "source": [
    "df['DeltaDate'] = df['Date'].apply(lambda x: dt.datetime.now()-x)\n",
    "df['DeltaDate'] = df['DeltaDate'].apply(lambda x: x.days)\n",
    "df"
   ]
  },
  {
   "cell_type": "code",
   "execution_count": 4,
   "id": "54359dd7",
   "metadata": {},
   "outputs": [
    {
     "data": {
      "text/html": [
       "<div>\n",
       "<style scoped>\n",
       "    .dataframe tbody tr th:only-of-type {\n",
       "        vertical-align: middle;\n",
       "    }\n",
       "\n",
       "    .dataframe tbody tr th {\n",
       "        vertical-align: top;\n",
       "    }\n",
       "\n",
       "    .dataframe thead th {\n",
       "        text-align: right;\n",
       "    }\n",
       "</style>\n",
       "<table border=\"1\" class=\"dataframe\">\n",
       "  <thead>\n",
       "    <tr style=\"text-align: right;\">\n",
       "      <th></th>\n",
       "      <th>0</th>\n",
       "      <th>1</th>\n",
       "      <th>2</th>\n",
       "    </tr>\n",
       "  </thead>\n",
       "  <tbody>\n",
       "    <tr>\n",
       "      <th>0</th>\n",
       "      <td>302.0</td>\n",
       "      <td>0.0</td>\n",
       "      <td>290.0</td>\n",
       "    </tr>\n",
       "    <tr>\n",
       "      <th>1</th>\n",
       "      <td>302.0</td>\n",
       "      <td>0.0</td>\n",
       "      <td>289.0</td>\n",
       "    </tr>\n",
       "    <tr>\n",
       "      <th>2</th>\n",
       "      <td>302.0</td>\n",
       "      <td>0.0</td>\n",
       "      <td>288.0</td>\n",
       "    </tr>\n",
       "    <tr>\n",
       "      <th>3</th>\n",
       "      <td>302.0</td>\n",
       "      <td>0.0</td>\n",
       "      <td>287.0</td>\n",
       "    </tr>\n",
       "    <tr>\n",
       "      <th>4</th>\n",
       "      <td>302.0</td>\n",
       "      <td>0.0</td>\n",
       "      <td>286.0</td>\n",
       "    </tr>\n",
       "    <tr>\n",
       "      <th>...</th>\n",
       "      <td>...</td>\n",
       "      <td>...</td>\n",
       "      <td>...</td>\n",
       "    </tr>\n",
       "    <tr>\n",
       "      <th>642976</th>\n",
       "      <td>47.0</td>\n",
       "      <td>5.0</td>\n",
       "      <td>4.0</td>\n",
       "    </tr>\n",
       "    <tr>\n",
       "      <th>642977</th>\n",
       "      <td>47.0</td>\n",
       "      <td>5.0</td>\n",
       "      <td>3.0</td>\n",
       "    </tr>\n",
       "    <tr>\n",
       "      <th>642978</th>\n",
       "      <td>47.0</td>\n",
       "      <td>5.0</td>\n",
       "      <td>2.0</td>\n",
       "    </tr>\n",
       "    <tr>\n",
       "      <th>642979</th>\n",
       "      <td>47.0</td>\n",
       "      <td>5.0</td>\n",
       "      <td>1.0</td>\n",
       "    </tr>\n",
       "    <tr>\n",
       "      <th>642980</th>\n",
       "      <td>47.0</td>\n",
       "      <td>5.0</td>\n",
       "      <td>0.0</td>\n",
       "    </tr>\n",
       "  </tbody>\n",
       "</table>\n",
       "<p>642981 rows × 3 columns</p>\n",
       "</div>"
      ],
      "text/plain": [
       "            0    1      2\n",
       "0       302.0  0.0  290.0\n",
       "1       302.0  0.0  289.0\n",
       "2       302.0  0.0  288.0\n",
       "3       302.0  0.0  287.0\n",
       "4       302.0  0.0  286.0\n",
       "...       ...  ...    ...\n",
       "642976   47.0  5.0    4.0\n",
       "642977   47.0  5.0    3.0\n",
       "642978   47.0  5.0    2.0\n",
       "642979   47.0  5.0    1.0\n",
       "642980   47.0  5.0    0.0\n",
       "\n",
       "[642981 rows x 3 columns]"
      ]
     },
     "execution_count": 4,
     "metadata": {},
     "output_type": "execute_result"
    }
   ],
   "source": [
    "enc = OrdinalEncoder()\n",
    "X_df = df.drop([\"Price\"],axis=1)\n",
    "X_enc = enc.fit_transform(X_df[[\"RegionName\",\"Bedrooms\",\"DeltaDate\"]])\n",
    "X_df_enc = pd.DataFrame(X_enc)\n",
    "X_df_enc"
   ]
  },
  {
   "cell_type": "code",
   "execution_count": 5,
   "id": "ed99a974",
   "metadata": {},
   "outputs": [],
   "source": [
    "# Separate the features (X) from the target (y):\n",
    "y = df['Price']\n",
    "X = X_df_enc.copy()"
   ]
  },
  {
   "cell_type": "code",
   "execution_count": 6,
   "id": "6c493775",
   "metadata": {},
   "outputs": [
    {
     "data": {
      "text/plain": [
       "((482235, 3), (160746, 3))"
      ]
     },
     "execution_count": 6,
     "metadata": {},
     "output_type": "execute_result"
    }
   ],
   "source": [
    "# Split data into training & testing:\n",
    "X_train, X_test, y_train, y_test = train_test_split(\n",
    "    X, y, random_state=1)\n",
    "X_train.shape, X_test.shape"
   ]
  },
  {
   "cell_type": "code",
   "execution_count": 7,
   "id": "9ace2462",
   "metadata": {},
   "outputs": [],
   "source": [
    "# First review the data\n",
    "# plt.scatter(df.Date, df.Price)\n",
    "# plt.xlabel('Date')\n",
    "# plt.ylabel('Price in USD(1,000,000)')\n",
    "# plt.gcf().set_size_inches((10, 10))  \n",
    "# plt.show()"
   ]
  },
  {
   "cell_type": "code",
   "execution_count": 8,
   "id": "1fefe1a2",
   "metadata": {},
   "outputs": [],
   "source": [
    "#df.Bedrooms.value_counts()"
   ]
  },
  {
   "cell_type": "code",
   "execution_count": 9,
   "id": "8bf87e5b",
   "metadata": {},
   "outputs": [],
   "source": [
    "#df_counts = df.Bedrooms.value_counts()\n",
    "#df_counts.plot.density()"
   ]
  },
  {
   "cell_type": "code",
   "execution_count": 10,
   "id": "9d428cdf",
   "metadata": {},
   "outputs": [
    {
     "data": {
      "text/plain": [
       "LinearRegression()"
      ]
     },
     "execution_count": 10,
     "metadata": {},
     "output_type": "execute_result"
    }
   ],
   "source": [
    "model = LinearRegression()\n",
    "model.fit(X_train,y_train)"
   ]
  },
  {
   "cell_type": "code",
   "execution_count": 11,
   "id": "48ba017d",
   "metadata": {},
   "outputs": [
    {
     "name": "stdout",
     "output_type": "stream",
     "text": [
      "(160746,)\n"
     ]
    }
   ],
   "source": [
    "# Predict() method is used to generate a prediciton\n",
    "y_pred = model.predict(X_test)\n",
    "print(y_pred.shape)"
   ]
  },
  {
   "cell_type": "code",
   "execution_count": 12,
   "id": "aa0d026f",
   "metadata": {},
   "outputs": [
    {
     "data": {
      "text/html": [
       "<div>\n",
       "<style scoped>\n",
       "    .dataframe tbody tr th:only-of-type {\n",
       "        vertical-align: middle;\n",
       "    }\n",
       "\n",
       "    .dataframe tbody tr th {\n",
       "        vertical-align: top;\n",
       "    }\n",
       "\n",
       "    .dataframe thead th {\n",
       "        text-align: right;\n",
       "    }\n",
       "</style>\n",
       "<table border=\"1\" class=\"dataframe\">\n",
       "  <thead>\n",
       "    <tr style=\"text-align: right;\">\n",
       "      <th></th>\n",
       "      <th>0</th>\n",
       "      <th>1</th>\n",
       "      <th>2</th>\n",
       "    </tr>\n",
       "  </thead>\n",
       "  <tbody>\n",
       "    <tr>\n",
       "      <th>0</th>\n",
       "      <td>White Bluff</td>\n",
       "      <td>4</td>\n",
       "      <td>9047</td>\n",
       "    </tr>\n",
       "    <tr>\n",
       "      <th>1</th>\n",
       "      <td>Greeneville</td>\n",
       "      <td>2</td>\n",
       "      <td>4360</td>\n",
       "    </tr>\n",
       "    <tr>\n",
       "      <th>2</th>\n",
       "      <td>Gordonsville</td>\n",
       "      <td>3</td>\n",
       "      <td>920</td>\n",
       "    </tr>\n",
       "    <tr>\n",
       "      <th>3</th>\n",
       "      <td>Shiloh</td>\n",
       "      <td>0</td>\n",
       "      <td>4269</td>\n",
       "    </tr>\n",
       "    <tr>\n",
       "      <th>4</th>\n",
       "      <td>Andersonville</td>\n",
       "      <td>3</td>\n",
       "      <td>8136</td>\n",
       "    </tr>\n",
       "    <tr>\n",
       "      <th>...</th>\n",
       "      <td>...</td>\n",
       "      <td>...</td>\n",
       "      <td>...</td>\n",
       "    </tr>\n",
       "    <tr>\n",
       "      <th>160741</th>\n",
       "      <td>Centerville</td>\n",
       "      <td>2</td>\n",
       "      <td>4057</td>\n",
       "    </tr>\n",
       "    <tr>\n",
       "      <th>160742</th>\n",
       "      <td>Five Points</td>\n",
       "      <td>3</td>\n",
       "      <td>5699</td>\n",
       "    </tr>\n",
       "    <tr>\n",
       "      <th>160743</th>\n",
       "      <td>Troy</td>\n",
       "      <td>2</td>\n",
       "      <td>3295</td>\n",
       "    </tr>\n",
       "    <tr>\n",
       "      <th>160744</th>\n",
       "      <td>Pleasant View</td>\n",
       "      <td>3</td>\n",
       "      <td>6125</td>\n",
       "    </tr>\n",
       "    <tr>\n",
       "      <th>160745</th>\n",
       "      <td>Sardis</td>\n",
       "      <td>2</td>\n",
       "      <td>4848</td>\n",
       "    </tr>\n",
       "  </tbody>\n",
       "</table>\n",
       "<p>160746 rows × 3 columns</p>\n",
       "</div>"
      ],
      "text/plain": [
       "                    0  1     2\n",
       "0         White Bluff  4  9047\n",
       "1         Greeneville  2  4360\n",
       "2        Gordonsville  3   920\n",
       "3              Shiloh  0  4269\n",
       "4       Andersonville  3  8136\n",
       "...               ... ..   ...\n",
       "160741    Centerville  2  4057\n",
       "160742    Five Points  3  5699\n",
       "160743           Troy  2  3295\n",
       "160744  Pleasant View  3  6125\n",
       "160745         Sardis  2  4848\n",
       "\n",
       "[160746 rows x 3 columns]"
      ]
     },
     "execution_count": 12,
     "metadata": {},
     "output_type": "execute_result"
    }
   ],
   "source": [
    "X_test_inverse=pd.DataFrame(enc.inverse_transform(X_test))\n",
    "X_test_inverse"
   ]
  },
  {
   "cell_type": "code",
   "execution_count": 13,
   "id": "07d1aba1",
   "metadata": {},
   "outputs": [
    {
     "data": {
      "text/html": [
       "<div>\n",
       "<style scoped>\n",
       "    .dataframe tbody tr th:only-of-type {\n",
       "        vertical-align: middle;\n",
       "    }\n",
       "\n",
       "    .dataframe tbody tr th {\n",
       "        vertical-align: top;\n",
       "    }\n",
       "\n",
       "    .dataframe thead th {\n",
       "        text-align: right;\n",
       "    }\n",
       "</style>\n",
       "<table border=\"1\" class=\"dataframe\">\n",
       "  <thead>\n",
       "    <tr style=\"text-align: right;\">\n",
       "      <th></th>\n",
       "      <th>0</th>\n",
       "      <th>1</th>\n",
       "      <th>2</th>\n",
       "      <th>Price Predictions</th>\n",
       "      <th>Actual Price</th>\n",
       "    </tr>\n",
       "  </thead>\n",
       "  <tbody>\n",
       "    <tr>\n",
       "      <th>0</th>\n",
       "      <td>White Bluff</td>\n",
       "      <td>4</td>\n",
       "      <td>9047</td>\n",
       "      <td>123075.161015</td>\n",
       "      <td>103888</td>\n",
       "    </tr>\n",
       "    <tr>\n",
       "      <th>1</th>\n",
       "      <td>Greeneville</td>\n",
       "      <td>2</td>\n",
       "      <td>4360</td>\n",
       "      <td>121550.903025</td>\n",
       "      <td>66765</td>\n",
       "    </tr>\n",
       "    <tr>\n",
       "      <th>2</th>\n",
       "      <td>Gordonsville</td>\n",
       "      <td>3</td>\n",
       "      <td>920</td>\n",
       "      <td>168996.043711</td>\n",
       "      <td>155469</td>\n",
       "    </tr>\n",
       "    <tr>\n",
       "      <th>3</th>\n",
       "      <td>Shiloh</td>\n",
       "      <td>0</td>\n",
       "      <td>4269</td>\n",
       "      <td>77744.130821</td>\n",
       "      <td>58908</td>\n",
       "    </tr>\n",
       "    <tr>\n",
       "      <th>4</th>\n",
       "      <td>Andersonville</td>\n",
       "      <td>3</td>\n",
       "      <td>8136</td>\n",
       "      <td>115480.819357</td>\n",
       "      <td>122000</td>\n",
       "    </tr>\n",
       "    <tr>\n",
       "      <th>...</th>\n",
       "      <td>...</td>\n",
       "      <td>...</td>\n",
       "      <td>...</td>\n",
       "      <td>...</td>\n",
       "      <td>...</td>\n",
       "    </tr>\n",
       "    <tr>\n",
       "      <th>160741</th>\n",
       "      <td>Centerville</td>\n",
       "      <td>2</td>\n",
       "      <td>4057</td>\n",
       "      <td>125419.972142</td>\n",
       "      <td>54166</td>\n",
       "    </tr>\n",
       "    <tr>\n",
       "      <th>160742</th>\n",
       "      <td>Five Points</td>\n",
       "      <td>3</td>\n",
       "      <td>5699</td>\n",
       "      <td>132354.569300</td>\n",
       "      <td>66613</td>\n",
       "    </tr>\n",
       "    <tr>\n",
       "      <th>160743</th>\n",
       "      <td>Troy</td>\n",
       "      <td>2</td>\n",
       "      <td>3295</td>\n",
       "      <td>126229.120268</td>\n",
       "      <td>48731</td>\n",
       "    </tr>\n",
       "    <tr>\n",
       "      <th>160744</th>\n",
       "      <td>Pleasant View</td>\n",
       "      <td>3</td>\n",
       "      <td>6125</td>\n",
       "      <td>126431.035629</td>\n",
       "      <td>139766</td>\n",
       "    </tr>\n",
       "    <tr>\n",
       "      <th>160745</th>\n",
       "      <td>Sardis</td>\n",
       "      <td>2</td>\n",
       "      <td>4848</td>\n",
       "      <td>115010.258730</td>\n",
       "      <td>29694</td>\n",
       "    </tr>\n",
       "  </tbody>\n",
       "</table>\n",
       "<p>160746 rows × 5 columns</p>\n",
       "</div>"
      ],
      "text/plain": [
       "                    0  1     2  Price Predictions  Actual Price\n",
       "0         White Bluff  4  9047      123075.161015        103888\n",
       "1         Greeneville  2  4360      121550.903025         66765\n",
       "2        Gordonsville  3   920      168996.043711        155469\n",
       "3              Shiloh  0  4269       77744.130821         58908\n",
       "4       Andersonville  3  8136      115480.819357        122000\n",
       "...               ... ..   ...                ...           ...\n",
       "160741    Centerville  2  4057      125419.972142         54166\n",
       "160742    Five Points  3  5699      132354.569300         66613\n",
       "160743           Troy  2  3295      126229.120268         48731\n",
       "160744  Pleasant View  3  6125      126431.035629        139766\n",
       "160745         Sardis  2  4848      115010.258730         29694\n",
       "\n",
       "[160746 rows x 5 columns]"
      ]
     },
     "execution_count": 13,
     "metadata": {},
     "output_type": "execute_result"
    }
   ],
   "source": [
    "X_test_inverse[\"Price Predictions\"]=y_pred\n",
    "X_test_inverse[\"Actual Price\"]=y_test.values\n",
    "X_test_inverse"
   ]
  },
  {
   "cell_type": "code",
   "execution_count": 14,
   "id": "632a30c2",
   "metadata": {},
   "outputs": [
    {
     "data": {
      "text/plain": [
       "163.7972360488048"
      ]
     },
     "execution_count": 14,
     "metadata": {},
     "output_type": "execute_result"
    }
   ],
   "source": [
    "X_test_inverse[\"Difference\"]=X_test_inverse[\"Price Predictions\"]-X_test_inverse[\"Actual Price\"]\n",
    "Average=X_test_inverse[\"Difference\"].values.mean()\n",
    "Average"
   ]
  },
  {
   "cell_type": "code",
   "execution_count": 15,
   "id": "22106e87",
   "metadata": {},
   "outputs": [
    {
     "name": "stdout",
     "output_type": "stream",
     "text": [
      "     0  1    2\n",
      "0  251  4 -100\n"
     ]
    }
   ],
   "source": [
    "data = {\n",
    "  \"0\": [251],\n",
    "  \"1\": [4],\n",
    "  \"2\": [-100]\n",
    "}\n",
    "\n",
    "#load data into a DataFrame object:\n",
    "df2 = pd.DataFrame(data)\n",
    "\n",
    "print(df2) "
   ]
  },
  {
   "cell_type": "code",
   "execution_count": 16,
   "id": "a61757da",
   "metadata": {},
   "outputs": [
    {
     "data": {
      "text/plain": [
       "array([215843.79934196])"
      ]
     },
     "execution_count": 16,
     "metadata": {},
     "output_type": "execute_result"
    }
   ],
   "source": [
    "y_test=model.predict(df2)\n",
    "y_test"
   ]
  },
  {
   "cell_type": "code",
   "execution_count": 17,
   "id": "9f349b8d",
   "metadata": {},
   "outputs": [
    {
     "name": "stdout",
     "output_type": "stream",
     "text": [
      "[-1.22424374e+01  2.07808234e+04 -2.35100688e+02]\n",
      "112283.2885951394\n"
     ]
    }
   ],
   "source": [
    "print(model.coef_)\n",
    "print(model.intercept_)"
   ]
  },
  {
   "cell_type": "code",
   "execution_count": null,
   "id": "5abab70f",
   "metadata": {},
   "outputs": [],
   "source": []
  },
  {
   "cell_type": "code",
   "execution_count": 18,
   "id": "f6bbfcd0",
   "metadata": {},
   "outputs": [],
   "source": [
    "# import joblib\n",
    "# joblib.dump(model,\"Trained_Linear_Regression_Model.joblib\")"
   ]
  },
  {
   "cell_type": "code",
   "execution_count": null,
   "id": "b27f37c0",
   "metadata": {},
   "outputs": [],
   "source": []
  }
 ],
 "metadata": {
  "kernelspec": {
   "display_name": "mlenv",
   "language": "python",
   "name": "mlenv"
  },
  "language_info": {
   "codemirror_mode": {
    "name": "ipython",
    "version": 3
   },
   "file_extension": ".py",
   "mimetype": "text/x-python",
   "name": "python",
   "nbconvert_exporter": "python",
   "pygments_lexer": "ipython3",
   "version": "3.7.10"
  }
 },
 "nbformat": 4,
 "nbformat_minor": 5
}
