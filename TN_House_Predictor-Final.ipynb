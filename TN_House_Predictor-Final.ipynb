{
 "cells": [
  {
   "cell_type": "code",
   "execution_count": 52,
   "id": "2d3cfa10",
   "metadata": {},
   "outputs": [],
   "source": [
    "import pandas as pd\n",
    "import sqlite3 as sq\n",
    "import sqlalchemy as sqla\n",
    "from sklearn.linear_model import LinearRegression\n",
    "from sklearn.model_selection import train_test_split\n",
    "import datetime as dt"
   ]
  },
  {
   "cell_type": "markdown",
   "id": "48abfc4a",
   "metadata": {},
   "source": [
    "https://towardsdatascience.com/starting-with-sql-in-python-948e529586f2"
   ]
  },
  {
   "cell_type": "code",
   "execution_count": 53,
   "id": "5c90aaf1",
   "metadata": {},
   "outputs": [],
   "source": [
    "sql_connect = sq.connect('zillow.db')\n",
    "cursor = sql_connect.cursor()"
   ]
  },
  {
   "cell_type": "code",
   "execution_count": 54,
   "id": "c33331e4",
   "metadata": {
    "scrolled": true
   },
   "outputs": [],
   "source": [
    "query = '''SELECT *\n",
    "FROM zillow_table1\n",
    "LEFT JOIN zillow_table2\n",
    "ON zillow_table1.ID = zillow_table2.ID;'''"
   ]
  },
  {
   "cell_type": "code",
   "execution_count": 55,
   "id": "3a534c2c",
   "metadata": {},
   "outputs": [],
   "source": [
    "results = cursor.execute(query).fetchall()"
   ]
  },
  {
   "cell_type": "code",
   "execution_count": 56,
   "id": "62907802",
   "metadata": {},
   "outputs": [],
   "source": [
    "df = pd.read_sql_query(query,sql_connect)"
   ]
  },
  {
   "cell_type": "code",
   "execution_count": 62,
   "id": "c4298bbb",
   "metadata": {},
   "outputs": [],
   "source": [
    "sql_connect.close()"
   ]
  },
  {
   "cell_type": "code",
   "execution_count": 57,
   "id": "72be59ad",
   "metadata": {},
   "outputs": [
    {
     "data": {
      "text/plain": [
       "ID             int64\n",
       "Bedrooms       int64\n",
       "RegionName    object\n",
       "Date          object\n",
       "ID             int64\n",
       "Price          int64\n",
       "dtype: object"
      ]
     },
     "execution_count": 57,
     "metadata": {},
     "output_type": "execute_result"
    }
   ],
   "source": [
    "df.dtypes"
   ]
  },
  {
   "cell_type": "code",
   "execution_count": 58,
   "id": "e350361f",
   "metadata": {},
   "outputs": [],
   "source": [
    "df['Date']= pd.to_datetime(df['Date'])"
   ]
  },
  {
   "cell_type": "code",
   "execution_count": 59,
   "id": "b436d7ec",
   "metadata": {},
   "outputs": [],
   "source": [
    "df['Year'] = df['Date'].dt.year"
   ]
  },
  {
   "cell_type": "code",
   "execution_count": 60,
   "id": "74161706",
   "metadata": {},
   "outputs": [],
   "source": [
    "def TN_House_Predictor(City,Bedrooms,Year):\n",
    "    df_func = df.loc[(df['RegionName'] == City)]\n",
    "    features = ['Bedrooms','Year']\n",
    "    output_label = 'Price'\n",
    "    x_train, x_test, y_train, y_test = train_test_split(\n",
    "        df_func[features],\n",
    "        df_func[output_label],\n",
    "        test_size = 0.3)\n",
    "    model = LinearRegression()\n",
    "    model.fit(x_train, y_train)\n",
    "    data = {'Bedrooms': [Bedrooms],'Year': [Year]}\n",
    "    df2 = pd.DataFrame(data)\n",
    "    y_test=model.predict(df2)\n",
    "    return y_test\n",
    "            "
   ]
  },
  {
   "cell_type": "code",
   "execution_count": 67,
   "id": "57a5627f",
   "metadata": {
    "scrolled": true
   },
   "outputs": [
    {
     "data": {
      "text/plain": [
       "array([143424.5385941])"
      ]
     },
     "execution_count": 67,
     "metadata": {},
     "output_type": "execute_result"
    }
   ],
   "source": [
    "TN_House_Predictor('Dayton',3,2020)"
   ]
  },
  {
   "cell_type": "code",
   "execution_count": null,
   "id": "afcdbf19",
   "metadata": {},
   "outputs": [],
   "source": []
  }
 ],
 "metadata": {
  "kernelspec": {
   "display_name": "mlenv",
   "language": "python",
   "name": "mlenv"
  },
  "language_info": {
   "codemirror_mode": {
    "name": "ipython",
    "version": 3
   },
   "file_extension": ".py",
   "mimetype": "text/x-python",
   "name": "python",
   "nbconvert_exporter": "python",
   "pygments_lexer": "ipython3",
   "version": "3.7.10"
  }
 },
 "nbformat": 4,
 "nbformat_minor": 5
}
