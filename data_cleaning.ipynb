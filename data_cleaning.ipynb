{
 "metadata": {
  "language_info": {
   "codemirror_mode": {
    "name": "ipython",
    "version": 3
   },
   "file_extension": ".py",
   "mimetype": "text/x-python",
   "name": "python",
   "nbconvert_exporter": "python",
   "pygments_lexer": "ipython3",
   "version": "3.8.8"
  },
  "orig_nbformat": 4,
  "kernelspec": {
   "name": "python3",
   "display_name": "Python 3.8.8 64-bit ('base': conda)"
  },
  "interpreter": {
   "hash": "523dee39768d39d2f4b1956c496c802271ab8af165449dbaae5229e2ee262397"
  }
 },
 "nbformat": 4,
 "nbformat_minor": 2,
 "cells": [
  {
   "cell_type": "code",
   "execution_count": 2,
   "metadata": {},
   "outputs": [],
   "source": [
    "# import dependancies\n",
    "import pandas as pd\n"
   ]
  },
  {
   "cell_type": "code",
   "execution_count": 3,
   "metadata": {},
   "outputs": [
    {
     "output_type": "execute_result",
     "data": {
      "text/plain": [
       "   Unnamed: 0  RegionID   RegionName   StateName  SizeRank   2008-03  \\\n",
       "0           0      6181     New York    New York         1       NaN   \n",
       "1           1     12447  Los Angeles  California         2  507600.0   \n",
       "2           2     39051      Houston       Texas         3  138400.0   \n",
       "3           3     17426      Chicago    Illinois         4  325100.0   \n",
       "4           4      6915  San Antonio       Texas         5  130900.0   \n",
       "\n",
       "    2008-04   2008-05   2008-06   2008-07  ...   2019-06   2019-07   2019-08  \\\n",
       "0       NaN       NaN       NaN       NaN  ...  563200.0  570500.0  572800.0   \n",
       "1  489600.0  463000.0  453100.0  438100.0  ...  706800.0  711800.0  717300.0   \n",
       "2  135500.0  132200.0  131000.0  133400.0  ...  209700.0  207400.0  207600.0   \n",
       "3  314800.0  286900.0  274600.0  268500.0  ...  271500.0  266500.0  264900.0   \n",
       "4  131300.0  131200.0  131500.0  131600.0  ...  197100.0  198700.0  200200.0   \n",
       "\n",
       "    2019-09   2019-10   2019-11   2019-12   2020-01   2020-02   2020-03  \n",
       "0  569900.0  560800.0  571500.0  575100.0  571700.0  568300.0  573600.0  \n",
       "1  714100.0  711900.0  718400.0  727100.0  738200.0  760200.0       NaN  \n",
       "2  207000.0  211400.0  211500.0  217700.0  219200.0  223800.0       NaN  \n",
       "3  265000.0  264100.0  264300.0  270000.0  281400.0  302900.0  309200.0  \n",
       "4  200800.0  203400.0  203800.0  205400.0  205400.0  208300.0       NaN  \n",
       "\n",
       "[5 rows x 150 columns]"
      ],
      "text/html": "<div>\n<style scoped>\n    .dataframe tbody tr th:only-of-type {\n        vertical-align: middle;\n    }\n\n    .dataframe tbody tr th {\n        vertical-align: top;\n    }\n\n    .dataframe thead th {\n        text-align: right;\n    }\n</style>\n<table border=\"1\" class=\"dataframe\">\n  <thead>\n    <tr style=\"text-align: right;\">\n      <th></th>\n      <th>Unnamed: 0</th>\n      <th>RegionID</th>\n      <th>RegionName</th>\n      <th>StateName</th>\n      <th>SizeRank</th>\n      <th>2008-03</th>\n      <th>2008-04</th>\n      <th>2008-05</th>\n      <th>2008-06</th>\n      <th>2008-07</th>\n      <th>...</th>\n      <th>2019-06</th>\n      <th>2019-07</th>\n      <th>2019-08</th>\n      <th>2019-09</th>\n      <th>2019-10</th>\n      <th>2019-11</th>\n      <th>2019-12</th>\n      <th>2020-01</th>\n      <th>2020-02</th>\n      <th>2020-03</th>\n    </tr>\n  </thead>\n  <tbody>\n    <tr>\n      <th>0</th>\n      <td>0</td>\n      <td>6181</td>\n      <td>New York</td>\n      <td>New York</td>\n      <td>1</td>\n      <td>NaN</td>\n      <td>NaN</td>\n      <td>NaN</td>\n      <td>NaN</td>\n      <td>NaN</td>\n      <td>...</td>\n      <td>563200.0</td>\n      <td>570500.0</td>\n      <td>572800.0</td>\n      <td>569900.0</td>\n      <td>560800.0</td>\n      <td>571500.0</td>\n      <td>575100.0</td>\n      <td>571700.0</td>\n      <td>568300.0</td>\n      <td>573600.0</td>\n    </tr>\n    <tr>\n      <th>1</th>\n      <td>1</td>\n      <td>12447</td>\n      <td>Los Angeles</td>\n      <td>California</td>\n      <td>2</td>\n      <td>507600.0</td>\n      <td>489600.0</td>\n      <td>463000.0</td>\n      <td>453100.0</td>\n      <td>438100.0</td>\n      <td>...</td>\n      <td>706800.0</td>\n      <td>711800.0</td>\n      <td>717300.0</td>\n      <td>714100.0</td>\n      <td>711900.0</td>\n      <td>718400.0</td>\n      <td>727100.0</td>\n      <td>738200.0</td>\n      <td>760200.0</td>\n      <td>NaN</td>\n    </tr>\n    <tr>\n      <th>2</th>\n      <td>2</td>\n      <td>39051</td>\n      <td>Houston</td>\n      <td>Texas</td>\n      <td>3</td>\n      <td>138400.0</td>\n      <td>135500.0</td>\n      <td>132200.0</td>\n      <td>131000.0</td>\n      <td>133400.0</td>\n      <td>...</td>\n      <td>209700.0</td>\n      <td>207400.0</td>\n      <td>207600.0</td>\n      <td>207000.0</td>\n      <td>211400.0</td>\n      <td>211500.0</td>\n      <td>217700.0</td>\n      <td>219200.0</td>\n      <td>223800.0</td>\n      <td>NaN</td>\n    </tr>\n    <tr>\n      <th>3</th>\n      <td>3</td>\n      <td>17426</td>\n      <td>Chicago</td>\n      <td>Illinois</td>\n      <td>4</td>\n      <td>325100.0</td>\n      <td>314800.0</td>\n      <td>286900.0</td>\n      <td>274600.0</td>\n      <td>268500.0</td>\n      <td>...</td>\n      <td>271500.0</td>\n      <td>266500.0</td>\n      <td>264900.0</td>\n      <td>265000.0</td>\n      <td>264100.0</td>\n      <td>264300.0</td>\n      <td>270000.0</td>\n      <td>281400.0</td>\n      <td>302900.0</td>\n      <td>309200.0</td>\n    </tr>\n    <tr>\n      <th>4</th>\n      <td>4</td>\n      <td>6915</td>\n      <td>San Antonio</td>\n      <td>Texas</td>\n      <td>5</td>\n      <td>130900.0</td>\n      <td>131300.0</td>\n      <td>131200.0</td>\n      <td>131500.0</td>\n      <td>131600.0</td>\n      <td>...</td>\n      <td>197100.0</td>\n      <td>198700.0</td>\n      <td>200200.0</td>\n      <td>200800.0</td>\n      <td>203400.0</td>\n      <td>203800.0</td>\n      <td>205400.0</td>\n      <td>205400.0</td>\n      <td>208300.0</td>\n      <td>NaN</td>\n    </tr>\n  </tbody>\n</table>\n<p>5 rows × 150 columns</p>\n</div>"
     },
     "metadata": {},
     "execution_count": 3
    }
   ],
   "source": [
    "# read in csv\n",
    "csv = pd.read_csv('Resources/Sale_Prices_City.csv')\n",
    "sale_price_df = pd.DataFrame(csv)\n",
    "sale_price_df.head()"
   ]
  },
  {
   "cell_type": "code",
   "execution_count": 4,
   "metadata": {},
   "outputs": [
    {
     "output_type": "execute_result",
     "data": {
      "text/plain": [
       "Unnamed: 0      int64\n",
       "RegionID        int64\n",
       "RegionName     object\n",
       "StateName      object\n",
       "SizeRank        int64\n",
       "               ...   \n",
       "2019-11       float64\n",
       "2019-12       float64\n",
       "2020-01       float64\n",
       "2020-02       float64\n",
       "2020-03       float64\n",
       "Length: 150, dtype: object"
      ]
     },
     "metadata": {},
     "execution_count": 4
    }
   ],
   "source": [
    "#find dtypes\n",
    "sale_price_df.dtypes"
   ]
  },
  {
   "cell_type": "code",
   "execution_count": 12,
   "metadata": {},
   "outputs": [
    {
     "output_type": "execute_result",
     "data": {
      "text/plain": [
       "     Unnamed: 0  RegionID    RegionName  StateName  SizeRank   2008-03  \\\n",
       "24           24     32811       Memphis  Tennessee        25       NaN   \n",
       "28           28      6118     Nashville  Tennessee        29  148900.0   \n",
       "50           50     25428     Knoxville  Tennessee        51  137000.0   \n",
       "159         159     37837   Chattanooga  Tennessee       160  107100.0   \n",
       "161         161     19523  Murfreesboro  Tennessee       162  140000.0   \n",
       "\n",
       "      2008-04   2008-05   2008-06   2008-07  ...   2019-06   2019-07  \\\n",
       "24        NaN       NaN       NaN       NaN  ...  100700.0  102700.0   \n",
       "28   147200.0  146100.0  147600.0  147400.0  ...  270900.0  270300.0   \n",
       "50   137700.0  139800.0  138000.0  134900.0  ...  181400.0  179200.0   \n",
       "159  104600.0  108500.0  106000.0  107400.0  ...  169900.0  172100.0   \n",
       "161  142300.0  142000.0  138700.0  134800.0  ...  251900.0  252200.0   \n",
       "\n",
       "      2019-08   2019-09   2019-10   2019-11   2019-12   2020-01   2020-02  \\\n",
       "24   104200.0  103600.0  101900.0  102100.0  104800.0  104500.0  109900.0   \n",
       "28   272300.0  274600.0  282700.0  283700.0  288000.0  288900.0  295500.0   \n",
       "50   184000.0  185900.0  186300.0  185100.0  188100.0  193300.0  202800.0   \n",
       "159  173100.0  171600.0  175500.0  179300.0  186200.0  186300.0  199100.0   \n",
       "161  252500.0  253800.0  255100.0  261900.0  267400.0  269500.0  261900.0   \n",
       "\n",
       "      2020-03  \n",
       "24        NaN  \n",
       "28   296200.0  \n",
       "50        NaN  \n",
       "159       NaN  \n",
       "161  257900.0  \n",
       "\n",
       "[5 rows x 150 columns]"
      ],
      "text/html": "<div>\n<style scoped>\n    .dataframe tbody tr th:only-of-type {\n        vertical-align: middle;\n    }\n\n    .dataframe tbody tr th {\n        vertical-align: top;\n    }\n\n    .dataframe thead th {\n        text-align: right;\n    }\n</style>\n<table border=\"1\" class=\"dataframe\">\n  <thead>\n    <tr style=\"text-align: right;\">\n      <th></th>\n      <th>Unnamed: 0</th>\n      <th>RegionID</th>\n      <th>RegionName</th>\n      <th>StateName</th>\n      <th>SizeRank</th>\n      <th>2008-03</th>\n      <th>2008-04</th>\n      <th>2008-05</th>\n      <th>2008-06</th>\n      <th>2008-07</th>\n      <th>...</th>\n      <th>2019-06</th>\n      <th>2019-07</th>\n      <th>2019-08</th>\n      <th>2019-09</th>\n      <th>2019-10</th>\n      <th>2019-11</th>\n      <th>2019-12</th>\n      <th>2020-01</th>\n      <th>2020-02</th>\n      <th>2020-03</th>\n    </tr>\n  </thead>\n  <tbody>\n    <tr>\n      <th>24</th>\n      <td>24</td>\n      <td>32811</td>\n      <td>Memphis</td>\n      <td>Tennessee</td>\n      <td>25</td>\n      <td>NaN</td>\n      <td>NaN</td>\n      <td>NaN</td>\n      <td>NaN</td>\n      <td>NaN</td>\n      <td>...</td>\n      <td>100700.0</td>\n      <td>102700.0</td>\n      <td>104200.0</td>\n      <td>103600.0</td>\n      <td>101900.0</td>\n      <td>102100.0</td>\n      <td>104800.0</td>\n      <td>104500.0</td>\n      <td>109900.0</td>\n      <td>NaN</td>\n    </tr>\n    <tr>\n      <th>28</th>\n      <td>28</td>\n      <td>6118</td>\n      <td>Nashville</td>\n      <td>Tennessee</td>\n      <td>29</td>\n      <td>148900.0</td>\n      <td>147200.0</td>\n      <td>146100.0</td>\n      <td>147600.0</td>\n      <td>147400.0</td>\n      <td>...</td>\n      <td>270900.0</td>\n      <td>270300.0</td>\n      <td>272300.0</td>\n      <td>274600.0</td>\n      <td>282700.0</td>\n      <td>283700.0</td>\n      <td>288000.0</td>\n      <td>288900.0</td>\n      <td>295500.0</td>\n      <td>296200.0</td>\n    </tr>\n    <tr>\n      <th>50</th>\n      <td>50</td>\n      <td>25428</td>\n      <td>Knoxville</td>\n      <td>Tennessee</td>\n      <td>51</td>\n      <td>137000.0</td>\n      <td>137700.0</td>\n      <td>139800.0</td>\n      <td>138000.0</td>\n      <td>134900.0</td>\n      <td>...</td>\n      <td>181400.0</td>\n      <td>179200.0</td>\n      <td>184000.0</td>\n      <td>185900.0</td>\n      <td>186300.0</td>\n      <td>185100.0</td>\n      <td>188100.0</td>\n      <td>193300.0</td>\n      <td>202800.0</td>\n      <td>NaN</td>\n    </tr>\n    <tr>\n      <th>159</th>\n      <td>159</td>\n      <td>37837</td>\n      <td>Chattanooga</td>\n      <td>Tennessee</td>\n      <td>160</td>\n      <td>107100.0</td>\n      <td>104600.0</td>\n      <td>108500.0</td>\n      <td>106000.0</td>\n      <td>107400.0</td>\n      <td>...</td>\n      <td>169900.0</td>\n      <td>172100.0</td>\n      <td>173100.0</td>\n      <td>171600.0</td>\n      <td>175500.0</td>\n      <td>179300.0</td>\n      <td>186200.0</td>\n      <td>186300.0</td>\n      <td>199100.0</td>\n      <td>NaN</td>\n    </tr>\n    <tr>\n      <th>161</th>\n      <td>161</td>\n      <td>19523</td>\n      <td>Murfreesboro</td>\n      <td>Tennessee</td>\n      <td>162</td>\n      <td>140000.0</td>\n      <td>142300.0</td>\n      <td>142000.0</td>\n      <td>138700.0</td>\n      <td>134800.0</td>\n      <td>...</td>\n      <td>251900.0</td>\n      <td>252200.0</td>\n      <td>252500.0</td>\n      <td>253800.0</td>\n      <td>255100.0</td>\n      <td>261900.0</td>\n      <td>267400.0</td>\n      <td>269500.0</td>\n      <td>261900.0</td>\n      <td>257900.0</td>\n    </tr>\n  </tbody>\n</table>\n<p>5 rows × 150 columns</p>\n</div>"
     },
     "metadata": {},
     "execution_count": 12
    }
   ],
   "source": [
    "# filter data by state\n",
    "tn_sale_df= sale_price_df.loc[sale_price_df['StateName'].isin(['Tennessee'])]\n",
    "tn_sale_df.head()"
   ]
  },
  {
   "cell_type": "code",
   "execution_count": 14,
   "metadata": {},
   "outputs": [
    {
     "output_type": "execute_result",
     "data": {
      "text/plain": [
       "        RegionName   2008-03   2008-04   2008-05   2008-06   2008-07  \\\n",
       "24         Memphis       NaN       NaN       NaN       NaN       NaN   \n",
       "28       Nashville  148900.0  147200.0  146100.0  147600.0  147400.0   \n",
       "50       Knoxville  137000.0  137700.0  139800.0  138000.0  134900.0   \n",
       "159    Chattanooga  107100.0  104600.0  108500.0  106000.0  107400.0   \n",
       "161   Murfreesboro  140000.0  142300.0  142000.0  138700.0  134800.0   \n",
       "...            ...       ...       ...       ...       ...       ...   \n",
       "3537   Chapel Hill       NaN       NaN       NaN       NaN       NaN   \n",
       "3544  Pigeon Forge       NaN       NaN       NaN       NaN       NaN   \n",
       "3581        Medina       NaN       NaN       NaN       NaN       NaN   \n",
       "3589  Millersville       NaN       NaN       NaN       NaN       NaN   \n",
       "3677    Gatlinburg       NaN       NaN       NaN       NaN       NaN   \n",
       "\n",
       "       2008-08   2008-09   2008-10   2008-11  ...   2019-06   2019-07  \\\n",
       "24         NaN       NaN       NaN       NaN  ...  100700.0  102700.0   \n",
       "28    147400.0  143100.0  143000.0  139800.0  ...  270900.0  270300.0   \n",
       "50    134000.0  134500.0  132400.0  128700.0  ...  181400.0  179200.0   \n",
       "159   101000.0  106100.0  110100.0  113600.0  ...  169900.0  172100.0   \n",
       "161   134000.0  136300.0  139200.0  144400.0  ...  251900.0  252200.0   \n",
       "...        ...       ...       ...       ...  ...       ...       ...   \n",
       "3537       NaN       NaN       NaN       NaN  ...  226500.0  231600.0   \n",
       "3544       NaN       NaN       NaN       NaN  ...  228000.0  222900.0   \n",
       "3581       NaN       NaN       NaN       NaN  ...  194000.0  190700.0   \n",
       "3589       NaN       NaN       NaN       NaN  ...  203300.0  207700.0   \n",
       "3677       NaN       NaN       NaN       NaN  ...  202100.0  203700.0   \n",
       "\n",
       "       2019-08   2019-09   2019-10   2019-11   2019-12   2020-01   2020-02  \\\n",
       "24    104200.0  103600.0  101900.0  102100.0  104800.0  104500.0  109900.0   \n",
       "28    272300.0  274600.0  282700.0  283700.0  288000.0  288900.0  295500.0   \n",
       "50    184000.0  185900.0  186300.0  185100.0  188100.0  193300.0  202800.0   \n",
       "159   173100.0  171600.0  175500.0  179300.0  186200.0  186300.0  199100.0   \n",
       "161   252500.0  253800.0  255100.0  261900.0  267400.0  269500.0  261900.0   \n",
       "...        ...       ...       ...       ...       ...       ...       ...   \n",
       "3537  232700.0  210100.0  212100.0  216300.0  210100.0  211000.0  203400.0   \n",
       "3544  237200.0  244300.0  247800.0  251700.0  258100.0  272600.0  280700.0   \n",
       "3581  187000.0  186100.0  177300.0  168500.0  168600.0  182500.0  194000.0   \n",
       "3589  210700.0  215200.0  211700.0  235200.0  249800.0  276400.0  258600.0   \n",
       "3677  207500.0  227000.0  231800.0  253800.0  253200.0  259300.0  264800.0   \n",
       "\n",
       "       2020-03  \n",
       "24         NaN  \n",
       "28    296200.0  \n",
       "50         NaN  \n",
       "159        NaN  \n",
       "161   257900.0  \n",
       "...        ...  \n",
       "3537  246200.0  \n",
       "3544  275300.0  \n",
       "3581  204700.0  \n",
       "3589  273300.0  \n",
       "3677  309400.0  \n",
       "\n",
       "[84 rows x 146 columns]"
      ],
      "text/html": "<div>\n<style scoped>\n    .dataframe tbody tr th:only-of-type {\n        vertical-align: middle;\n    }\n\n    .dataframe tbody tr th {\n        vertical-align: top;\n    }\n\n    .dataframe thead th {\n        text-align: right;\n    }\n</style>\n<table border=\"1\" class=\"dataframe\">\n  <thead>\n    <tr style=\"text-align: right;\">\n      <th></th>\n      <th>RegionName</th>\n      <th>2008-03</th>\n      <th>2008-04</th>\n      <th>2008-05</th>\n      <th>2008-06</th>\n      <th>2008-07</th>\n      <th>2008-08</th>\n      <th>2008-09</th>\n      <th>2008-10</th>\n      <th>2008-11</th>\n      <th>...</th>\n      <th>2019-06</th>\n      <th>2019-07</th>\n      <th>2019-08</th>\n      <th>2019-09</th>\n      <th>2019-10</th>\n      <th>2019-11</th>\n      <th>2019-12</th>\n      <th>2020-01</th>\n      <th>2020-02</th>\n      <th>2020-03</th>\n    </tr>\n  </thead>\n  <tbody>\n    <tr>\n      <th>24</th>\n      <td>Memphis</td>\n      <td>NaN</td>\n      <td>NaN</td>\n      <td>NaN</td>\n      <td>NaN</td>\n      <td>NaN</td>\n      <td>NaN</td>\n      <td>NaN</td>\n      <td>NaN</td>\n      <td>NaN</td>\n      <td>...</td>\n      <td>100700.0</td>\n      <td>102700.0</td>\n      <td>104200.0</td>\n      <td>103600.0</td>\n      <td>101900.0</td>\n      <td>102100.0</td>\n      <td>104800.0</td>\n      <td>104500.0</td>\n      <td>109900.0</td>\n      <td>NaN</td>\n    </tr>\n    <tr>\n      <th>28</th>\n      <td>Nashville</td>\n      <td>148900.0</td>\n      <td>147200.0</td>\n      <td>146100.0</td>\n      <td>147600.0</td>\n      <td>147400.0</td>\n      <td>147400.0</td>\n      <td>143100.0</td>\n      <td>143000.0</td>\n      <td>139800.0</td>\n      <td>...</td>\n      <td>270900.0</td>\n      <td>270300.0</td>\n      <td>272300.0</td>\n      <td>274600.0</td>\n      <td>282700.0</td>\n      <td>283700.0</td>\n      <td>288000.0</td>\n      <td>288900.0</td>\n      <td>295500.0</td>\n      <td>296200.0</td>\n    </tr>\n    <tr>\n      <th>50</th>\n      <td>Knoxville</td>\n      <td>137000.0</td>\n      <td>137700.0</td>\n      <td>139800.0</td>\n      <td>138000.0</td>\n      <td>134900.0</td>\n      <td>134000.0</td>\n      <td>134500.0</td>\n      <td>132400.0</td>\n      <td>128700.0</td>\n      <td>...</td>\n      <td>181400.0</td>\n      <td>179200.0</td>\n      <td>184000.0</td>\n      <td>185900.0</td>\n      <td>186300.0</td>\n      <td>185100.0</td>\n      <td>188100.0</td>\n      <td>193300.0</td>\n      <td>202800.0</td>\n      <td>NaN</td>\n    </tr>\n    <tr>\n      <th>159</th>\n      <td>Chattanooga</td>\n      <td>107100.0</td>\n      <td>104600.0</td>\n      <td>108500.0</td>\n      <td>106000.0</td>\n      <td>107400.0</td>\n      <td>101000.0</td>\n      <td>106100.0</td>\n      <td>110100.0</td>\n      <td>113600.0</td>\n      <td>...</td>\n      <td>169900.0</td>\n      <td>172100.0</td>\n      <td>173100.0</td>\n      <td>171600.0</td>\n      <td>175500.0</td>\n      <td>179300.0</td>\n      <td>186200.0</td>\n      <td>186300.0</td>\n      <td>199100.0</td>\n      <td>NaN</td>\n    </tr>\n    <tr>\n      <th>161</th>\n      <td>Murfreesboro</td>\n      <td>140000.0</td>\n      <td>142300.0</td>\n      <td>142000.0</td>\n      <td>138700.0</td>\n      <td>134800.0</td>\n      <td>134000.0</td>\n      <td>136300.0</td>\n      <td>139200.0</td>\n      <td>144400.0</td>\n      <td>...</td>\n      <td>251900.0</td>\n      <td>252200.0</td>\n      <td>252500.0</td>\n      <td>253800.0</td>\n      <td>255100.0</td>\n      <td>261900.0</td>\n      <td>267400.0</td>\n      <td>269500.0</td>\n      <td>261900.0</td>\n      <td>257900.0</td>\n    </tr>\n    <tr>\n      <th>...</th>\n      <td>...</td>\n      <td>...</td>\n      <td>...</td>\n      <td>...</td>\n      <td>...</td>\n      <td>...</td>\n      <td>...</td>\n      <td>...</td>\n      <td>...</td>\n      <td>...</td>\n      <td>...</td>\n      <td>...</td>\n      <td>...</td>\n      <td>...</td>\n      <td>...</td>\n      <td>...</td>\n      <td>...</td>\n      <td>...</td>\n      <td>...</td>\n      <td>...</td>\n      <td>...</td>\n    </tr>\n    <tr>\n      <th>3537</th>\n      <td>Chapel Hill</td>\n      <td>NaN</td>\n      <td>NaN</td>\n      <td>NaN</td>\n      <td>NaN</td>\n      <td>NaN</td>\n      <td>NaN</td>\n      <td>NaN</td>\n      <td>NaN</td>\n      <td>NaN</td>\n      <td>...</td>\n      <td>226500.0</td>\n      <td>231600.0</td>\n      <td>232700.0</td>\n      <td>210100.0</td>\n      <td>212100.0</td>\n      <td>216300.0</td>\n      <td>210100.0</td>\n      <td>211000.0</td>\n      <td>203400.0</td>\n      <td>246200.0</td>\n    </tr>\n    <tr>\n      <th>3544</th>\n      <td>Pigeon Forge</td>\n      <td>NaN</td>\n      <td>NaN</td>\n      <td>NaN</td>\n      <td>NaN</td>\n      <td>NaN</td>\n      <td>NaN</td>\n      <td>NaN</td>\n      <td>NaN</td>\n      <td>NaN</td>\n      <td>...</td>\n      <td>228000.0</td>\n      <td>222900.0</td>\n      <td>237200.0</td>\n      <td>244300.0</td>\n      <td>247800.0</td>\n      <td>251700.0</td>\n      <td>258100.0</td>\n      <td>272600.0</td>\n      <td>280700.0</td>\n      <td>275300.0</td>\n    </tr>\n    <tr>\n      <th>3581</th>\n      <td>Medina</td>\n      <td>NaN</td>\n      <td>NaN</td>\n      <td>NaN</td>\n      <td>NaN</td>\n      <td>NaN</td>\n      <td>NaN</td>\n      <td>NaN</td>\n      <td>NaN</td>\n      <td>NaN</td>\n      <td>...</td>\n      <td>194000.0</td>\n      <td>190700.0</td>\n      <td>187000.0</td>\n      <td>186100.0</td>\n      <td>177300.0</td>\n      <td>168500.0</td>\n      <td>168600.0</td>\n      <td>182500.0</td>\n      <td>194000.0</td>\n      <td>204700.0</td>\n    </tr>\n    <tr>\n      <th>3589</th>\n      <td>Millersville</td>\n      <td>NaN</td>\n      <td>NaN</td>\n      <td>NaN</td>\n      <td>NaN</td>\n      <td>NaN</td>\n      <td>NaN</td>\n      <td>NaN</td>\n      <td>NaN</td>\n      <td>NaN</td>\n      <td>...</td>\n      <td>203300.0</td>\n      <td>207700.0</td>\n      <td>210700.0</td>\n      <td>215200.0</td>\n      <td>211700.0</td>\n      <td>235200.0</td>\n      <td>249800.0</td>\n      <td>276400.0</td>\n      <td>258600.0</td>\n      <td>273300.0</td>\n    </tr>\n    <tr>\n      <th>3677</th>\n      <td>Gatlinburg</td>\n      <td>NaN</td>\n      <td>NaN</td>\n      <td>NaN</td>\n      <td>NaN</td>\n      <td>NaN</td>\n      <td>NaN</td>\n      <td>NaN</td>\n      <td>NaN</td>\n      <td>NaN</td>\n      <td>...</td>\n      <td>202100.0</td>\n      <td>203700.0</td>\n      <td>207500.0</td>\n      <td>227000.0</td>\n      <td>231800.0</td>\n      <td>253800.0</td>\n      <td>253200.0</td>\n      <td>259300.0</td>\n      <td>264800.0</td>\n      <td>309400.0</td>\n    </tr>\n  </tbody>\n</table>\n<p>84 rows × 146 columns</p>\n</div>"
     },
     "metadata": {},
     "execution_count": 14
    }
   ],
   "source": [
    "#drop unneeded columns\n",
    "tn_sale_df.drop(columns=['Unnamed: 0', 'RegionID', 'StateName', 'SizeRank'])"
   ]
  },
  {
   "cell_type": "code",
   "execution_count": null,
   "metadata": {},
   "outputs": [],
   "source": []
  }
 ]
}