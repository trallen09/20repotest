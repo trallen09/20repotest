{
 "cells": [
  {
   "cell_type": "code",
   "execution_count": 1,
   "id": "c03327c5",
   "metadata": {},
   "outputs": [],
   "source": [
    "import pandas as pd\n",
    "from pathlib import Path\n",
    "import matplotlib.pyplot as plt\n",
    "from sklearn.linear_model import LinearRegression\n",
    "from sklearn.preprocessing import OrdinalEncoder\n",
    "import datetime as dt\n",
    "from sklearn.model_selection import train_test_split"
   ]
  },
  {
   "cell_type": "code",
   "execution_count": 2,
   "id": "e95c0fdc",
   "metadata": {},
   "outputs": [
    {
     "data": {
      "text/html": [
       "<div>\n",
       "<style scoped>\n",
       "    .dataframe tbody tr th:only-of-type {\n",
       "        vertical-align: middle;\n",
       "    }\n",
       "\n",
       "    .dataframe tbody tr th {\n",
       "        vertical-align: top;\n",
       "    }\n",
       "\n",
       "    .dataframe thead th {\n",
       "        text-align: right;\n",
       "    }\n",
       "</style>\n",
       "<table border=\"1\" class=\"dataframe\">\n",
       "  <thead>\n",
       "    <tr style=\"text-align: right;\">\n",
       "      <th></th>\n",
       "      <th>Bedrooms</th>\n",
       "      <th>RegionName</th>\n",
       "      <th>Date</th>\n",
       "      <th>Price</th>\n",
       "      <th>DeltaDate</th>\n",
       "    </tr>\n",
       "  </thead>\n",
       "  <tbody>\n",
       "    <tr>\n",
       "      <th>0</th>\n",
       "      <td>0</td>\n",
       "      <td>Memphis</td>\n",
       "      <td>1996-01-31</td>\n",
       "      <td>75490.0</td>\n",
       "      <td>9318</td>\n",
       "    </tr>\n",
       "    <tr>\n",
       "      <th>1</th>\n",
       "      <td>0</td>\n",
       "      <td>Memphis</td>\n",
       "      <td>1996-02-29</td>\n",
       "      <td>75633.0</td>\n",
       "      <td>9289</td>\n",
       "    </tr>\n",
       "    <tr>\n",
       "      <th>2</th>\n",
       "      <td>0</td>\n",
       "      <td>Memphis</td>\n",
       "      <td>1996-03-31</td>\n",
       "      <td>75801.0</td>\n",
       "      <td>9258</td>\n",
       "    </tr>\n",
       "    <tr>\n",
       "      <th>3</th>\n",
       "      <td>0</td>\n",
       "      <td>Memphis</td>\n",
       "      <td>1996-04-30</td>\n",
       "      <td>76142.0</td>\n",
       "      <td>9228</td>\n",
       "    </tr>\n",
       "    <tr>\n",
       "      <th>4</th>\n",
       "      <td>0</td>\n",
       "      <td>Memphis</td>\n",
       "      <td>1996-05-31</td>\n",
       "      <td>76524.0</td>\n",
       "      <td>9197</td>\n",
       "    </tr>\n",
       "    <tr>\n",
       "      <th>...</th>\n",
       "      <td>...</td>\n",
       "      <td>...</td>\n",
       "      <td>...</td>\n",
       "      <td>...</td>\n",
       "      <td>...</td>\n",
       "    </tr>\n",
       "    <tr>\n",
       "      <th>642976</th>\n",
       "      <td>5</td>\n",
       "      <td>Braden</td>\n",
       "      <td>2019-11-30</td>\n",
       "      <td>266558.0</td>\n",
       "      <td>614</td>\n",
       "    </tr>\n",
       "    <tr>\n",
       "      <th>642977</th>\n",
       "      <td>5</td>\n",
       "      <td>Braden</td>\n",
       "      <td>2019-12-31</td>\n",
       "      <td>269833.0</td>\n",
       "      <td>583</td>\n",
       "    </tr>\n",
       "    <tr>\n",
       "      <th>642978</th>\n",
       "      <td>5</td>\n",
       "      <td>Braden</td>\n",
       "      <td>2020-01-31</td>\n",
       "      <td>271472.0</td>\n",
       "      <td>552</td>\n",
       "    </tr>\n",
       "    <tr>\n",
       "      <th>642979</th>\n",
       "      <td>5</td>\n",
       "      <td>Braden</td>\n",
       "      <td>2020-02-29</td>\n",
       "      <td>276641.0</td>\n",
       "      <td>523</td>\n",
       "    </tr>\n",
       "    <tr>\n",
       "      <th>642980</th>\n",
       "      <td>5</td>\n",
       "      <td>Braden</td>\n",
       "      <td>2020-03-31</td>\n",
       "      <td>281210.0</td>\n",
       "      <td>492</td>\n",
       "    </tr>\n",
       "  </tbody>\n",
       "</table>\n",
       "<p>642981 rows × 5 columns</p>\n",
       "</div>"
      ],
      "text/plain": [
       "        Bedrooms RegionName       Date     Price  DeltaDate\n",
       "0              0    Memphis 1996-01-31   75490.0       9318\n",
       "1              0    Memphis 1996-02-29   75633.0       9289\n",
       "2              0    Memphis 1996-03-31   75801.0       9258\n",
       "3              0    Memphis 1996-04-30   76142.0       9228\n",
       "4              0    Memphis 1996-05-31   76524.0       9197\n",
       "...          ...        ...        ...       ...        ...\n",
       "642976         5     Braden 2019-11-30  266558.0        614\n",
       "642977         5     Braden 2019-12-31  269833.0        583\n",
       "642978         5     Braden 2020-01-31  271472.0        552\n",
       "642979         5     Braden 2020-02-29  276641.0        523\n",
       "642980         5     Braden 2020-03-31  281210.0        492\n",
       "\n",
       "[642981 rows x 5 columns]"
      ]
     },
     "execution_count": 2,
     "metadata": {},
     "output_type": "execute_result"
    }
   ],
   "source": [
    "df = pd.read_csv(Path('Resources/combined_zillow.csv'),parse_dates=['Date'], infer_datetime_format=True)\n",
    "df['DeltaDate'] = df['Date'].apply(lambda x: dt.datetime.now()-x)\n",
    "df['DeltaDate'] = df['DeltaDate'].apply(lambda x: x.days)\n",
    "df"
   ]
  },
  {
   "cell_type": "code",
   "execution_count": 3,
   "id": "54359dd7",
   "metadata": {},
   "outputs": [
    {
     "data": {
      "text/html": [
       "<div>\n",
       "<style scoped>\n",
       "    .dataframe tbody tr th:only-of-type {\n",
       "        vertical-align: middle;\n",
       "    }\n",
       "\n",
       "    .dataframe tbody tr th {\n",
       "        vertical-align: top;\n",
       "    }\n",
       "\n",
       "    .dataframe thead th {\n",
       "        text-align: right;\n",
       "    }\n",
       "</style>\n",
       "<table border=\"1\" class=\"dataframe\">\n",
       "  <thead>\n",
       "    <tr style=\"text-align: right;\">\n",
       "      <th></th>\n",
       "      <th>0</th>\n",
       "      <th>1</th>\n",
       "    </tr>\n",
       "  </thead>\n",
       "  <tbody>\n",
       "    <tr>\n",
       "      <th>0</th>\n",
       "      <td>302.0</td>\n",
       "      <td>0.0</td>\n",
       "    </tr>\n",
       "    <tr>\n",
       "      <th>1</th>\n",
       "      <td>302.0</td>\n",
       "      <td>0.0</td>\n",
       "    </tr>\n",
       "    <tr>\n",
       "      <th>2</th>\n",
       "      <td>302.0</td>\n",
       "      <td>0.0</td>\n",
       "    </tr>\n",
       "    <tr>\n",
       "      <th>3</th>\n",
       "      <td>302.0</td>\n",
       "      <td>0.0</td>\n",
       "    </tr>\n",
       "    <tr>\n",
       "      <th>4</th>\n",
       "      <td>302.0</td>\n",
       "      <td>0.0</td>\n",
       "    </tr>\n",
       "    <tr>\n",
       "      <th>...</th>\n",
       "      <td>...</td>\n",
       "      <td>...</td>\n",
       "    </tr>\n",
       "    <tr>\n",
       "      <th>642976</th>\n",
       "      <td>47.0</td>\n",
       "      <td>5.0</td>\n",
       "    </tr>\n",
       "    <tr>\n",
       "      <th>642977</th>\n",
       "      <td>47.0</td>\n",
       "      <td>5.0</td>\n",
       "    </tr>\n",
       "    <tr>\n",
       "      <th>642978</th>\n",
       "      <td>47.0</td>\n",
       "      <td>5.0</td>\n",
       "    </tr>\n",
       "    <tr>\n",
       "      <th>642979</th>\n",
       "      <td>47.0</td>\n",
       "      <td>5.0</td>\n",
       "    </tr>\n",
       "    <tr>\n",
       "      <th>642980</th>\n",
       "      <td>47.0</td>\n",
       "      <td>5.0</td>\n",
       "    </tr>\n",
       "  </tbody>\n",
       "</table>\n",
       "<p>642981 rows × 2 columns</p>\n",
       "</div>"
      ],
      "text/plain": [
       "            0    1\n",
       "0       302.0  0.0\n",
       "1       302.0  0.0\n",
       "2       302.0  0.0\n",
       "3       302.0  0.0\n",
       "4       302.0  0.0\n",
       "...       ...  ...\n",
       "642976   47.0  5.0\n",
       "642977   47.0  5.0\n",
       "642978   47.0  5.0\n",
       "642979   47.0  5.0\n",
       "642980   47.0  5.0\n",
       "\n",
       "[642981 rows x 2 columns]"
      ]
     },
     "execution_count": 3,
     "metadata": {},
     "output_type": "execute_result"
    }
   ],
   "source": [
    "enc = OrdinalEncoder()\n",
    "X_df = df.drop([\"Price\"],axis=1)\n",
    "X_enc = enc.fit_transform(X_df[[\"RegionName\",\"Bedrooms\"]])\n",
    "X_df_enc = pd.DataFrame(X_enc)\n",
    "X_df_enc"
   ]
  },
  {
   "cell_type": "code",
   "execution_count": 4,
   "id": "ed99a974",
   "metadata": {},
   "outputs": [],
   "source": [
    "# Separate the features (X) from the target (y):\n",
    "y = df['Price']\n",
    "X = X_df_enc.copy()"
   ]
  },
  {
   "cell_type": "code",
   "execution_count": 5,
   "id": "6c493775",
   "metadata": {},
   "outputs": [
    {
     "data": {
      "text/plain": [
       "(482235, 2)"
      ]
     },
     "execution_count": 5,
     "metadata": {},
     "output_type": "execute_result"
    }
   ],
   "source": [
    "# Split data into training & testing:\n",
    "X_train, X_test, y_train, y_test = train_test_split(\n",
    "    X, y, random_state=1)\n",
    "X_train.shape"
   ]
  },
  {
   "cell_type": "code",
   "execution_count": 6,
   "id": "9ace2462",
   "metadata": {},
   "outputs": [
    {
     "data": {
      "image/png": "[encoded data removed]",
      "text/plain": [
       "<Figure size 720x720 with 1 Axes>"
      ]
     },
     "metadata": {
      "needs_background": "light"
     },
     "output_type": "display_data"
    }
   ],
   "source": [
    "# First review the data\n",
    "plt.scatter(df.Date, df.Price)\n",
    "plt.xlabel('Date')\n",
    "plt.ylabel('Price in USD(1,000,000)')\n",
    "plt.gcf().set_size_inches((10, 10))  \n",
    "plt.show()"
   ]
  },
  {
   "cell_type": "code",
   "execution_count": 7,
   "id": "1fefe1a2",
   "metadata": {},
   "outputs": [
    {
     "data": {
      "text/plain": [
       "0    146624\n",
       "3    137098\n",
       "2    120286\n",
       "4    117546\n",
       "5     80417\n",
       "1     41010\n",
       "Name: Bedrooms, dtype: int64"
      ]
     },
     "execution_count": 7,
     "metadata": {},
     "output_type": "execute_result"
    }
   ],
   "source": [
    "df.Bedrooms.value_counts()"
   ]
  },
  {
   "cell_type": "code",
   "execution_count": 8,
   "id": "8bf87e5b",
   "metadata": {},
   "outputs": [
    {
     "data": {
      "text/plain": [
       "<AxesSubplot:ylabel='Density'>"
      ]
     },
     "execution_count": 8,
     "metadata": {},
     "output_type": "execute_result"
    },
    {
     "data": {
      "image/png": "[encoded data removed]",
      "text/plain": [
       "<Figure size 432x288 with 1 Axes>"
      ]
     },
     "metadata": {
      "needs_background": "light"
     },
     "output_type": "display_data"
    }
   ],
   "source": [
    "df_counts = df.Bedrooms.value_counts()\n",
    "df_counts.plot.density()"
   ]
  },
  {
   "cell_type": "code",
   "execution_count": 9,
   "id": "9d428cdf",
   "metadata": {},
   "outputs": [
    {
     "data": {
      "text/plain": [
       "LinearRegression()"
      ]
     },
     "execution_count": 9,
     "metadata": {},
     "output_type": "execute_result"
    }
   ],
   "source": [
    "model = LinearRegression()\n",
    "model.fit(X_train,y_train)"
   ]
  },
  {
   "cell_type": "code",
   "execution_count": 10,
   "id": "48ba017d",
   "metadata": {},
   "outputs": [
    {
     "name": "stdout",
     "output_type": "stream",
     "text": [
      "(160746,)\n"
     ]
    }
   ],
   "source": [
    "# Predict() method is used to generate a prediciton\n",
    "y_pred = model.predict(X_test)\n",
    "print(y_pred.shape)"
   ]
  },
  {
   "cell_type": "code",
   "execution_count": 11,
   "id": "aa0d026f",
   "metadata": {},
   "outputs": [
    {
     "data": {
      "text/html": [
       "<div>\n",
       "<style scoped>\n",
       "    .dataframe tbody tr th:only-of-type {\n",
       "        vertical-align: middle;\n",
       "    }\n",
       "\n",
       "    .dataframe tbody tr th {\n",
       "        vertical-align: top;\n",
       "    }\n",
       "\n",
       "    .dataframe thead th {\n",
       "        text-align: right;\n",
       "    }\n",
       "</style>\n",
       "<table border=\"1\" class=\"dataframe\">\n",
       "  <thead>\n",
       "    <tr style=\"text-align: right;\">\n",
       "      <th></th>\n",
       "      <th>0</th>\n",
       "      <th>1</th>\n",
       "    </tr>\n",
       "  </thead>\n",
       "  <tbody>\n",
       "    <tr>\n",
       "      <th>0</th>\n",
       "      <td>White Bluff</td>\n",
       "      <td>4</td>\n",
       "    </tr>\n",
       "    <tr>\n",
       "      <th>1</th>\n",
       "      <td>Greeneville</td>\n",
       "      <td>2</td>\n",
       "    </tr>\n",
       "    <tr>\n",
       "      <th>2</th>\n",
       "      <td>Gordonsville</td>\n",
       "      <td>3</td>\n",
       "    </tr>\n",
       "    <tr>\n",
       "      <th>3</th>\n",
       "      <td>Shiloh</td>\n",
       "      <td>0</td>\n",
       "    </tr>\n",
       "    <tr>\n",
       "      <th>4</th>\n",
       "      <td>Andersonville</td>\n",
       "      <td>3</td>\n",
       "    </tr>\n",
       "    <tr>\n",
       "      <th>...</th>\n",
       "      <td>...</td>\n",
       "      <td>...</td>\n",
       "    </tr>\n",
       "    <tr>\n",
       "      <th>160741</th>\n",
       "      <td>Centerville</td>\n",
       "      <td>2</td>\n",
       "    </tr>\n",
       "    <tr>\n",
       "      <th>160742</th>\n",
       "      <td>Five Points</td>\n",
       "      <td>3</td>\n",
       "    </tr>\n",
       "    <tr>\n",
       "      <th>160743</th>\n",
       "      <td>Troy</td>\n",
       "      <td>2</td>\n",
       "    </tr>\n",
       "    <tr>\n",
       "      <th>160744</th>\n",
       "      <td>Pleasant View</td>\n",
       "      <td>3</td>\n",
       "    </tr>\n",
       "    <tr>\n",
       "      <th>160745</th>\n",
       "      <td>Sardis</td>\n",
       "      <td>2</td>\n",
       "    </tr>\n",
       "  </tbody>\n",
       "</table>\n",
       "<p>160746 rows × 2 columns</p>\n",
       "</div>"
      ],
      "text/plain": [
       "                    0  1\n",
       "0         White Bluff  4\n",
       "1         Greeneville  2\n",
       "2        Gordonsville  3\n",
       "3              Shiloh  0\n",
       "4       Andersonville  3\n",
       "...               ... ..\n",
       "160741    Centerville  2\n",
       "160742    Five Points  3\n",
       "160743           Troy  2\n",
       "160744  Pleasant View  3\n",
       "160745         Sardis  2\n",
       "\n",
       "[160746 rows x 2 columns]"
      ]
     },
     "execution_count": 11,
     "metadata": {},
     "output_type": "execute_result"
    }
   ],
   "source": [
    "X_test_inverse=pd.DataFrame(enc.inverse_transform(X_test))\n",
    "X_test_inverse"
   ]
  },
  {
   "cell_type": "code",
   "execution_count": 12,
   "id": "07d1aba1",
   "metadata": {},
   "outputs": [
    {
     "data": {
      "text/html": [
       "<div>\n",
       "<style scoped>\n",
       "    .dataframe tbody tr th:only-of-type {\n",
       "        vertical-align: middle;\n",
       "    }\n",
       "\n",
       "    .dataframe tbody tr th {\n",
       "        vertical-align: top;\n",
       "    }\n",
       "\n",
       "    .dataframe thead th {\n",
       "        text-align: right;\n",
       "    }\n",
       "</style>\n",
       "<table border=\"1\" class=\"dataframe\">\n",
       "  <thead>\n",
       "    <tr style=\"text-align: right;\">\n",
       "      <th></th>\n",
       "      <th>0</th>\n",
       "      <th>1</th>\n",
       "      <th>Price Predictions</th>\n",
       "      <th>Actual Price</th>\n",
       "    </tr>\n",
       "  </thead>\n",
       "  <tbody>\n",
       "    <tr>\n",
       "      <th>0</th>\n",
       "      <td>White Bluff</td>\n",
       "      <td>4</td>\n",
       "      <td>158813.254295</td>\n",
       "      <td>103888.0</td>\n",
       "    </tr>\n",
       "    <tr>\n",
       "      <th>1</th>\n",
       "      <td>Greeneville</td>\n",
       "      <td>2</td>\n",
       "      <td>119990.233721</td>\n",
       "      <td>66765.0</td>\n",
       "    </tr>\n",
       "    <tr>\n",
       "      <th>2</th>\n",
       "      <td>Gordonsville</td>\n",
       "      <td>3</td>\n",
       "      <td>141303.977348</td>\n",
       "      <td>155469.0</td>\n",
       "    </tr>\n",
       "    <tr>\n",
       "      <th>3</th>\n",
       "      <td>Shiloh</td>\n",
       "      <td>0</td>\n",
       "      <td>74760.907554</td>\n",
       "      <td>58908.0</td>\n",
       "    </tr>\n",
       "    <tr>\n",
       "      <th>4</th>\n",
       "      <td>Andersonville</td>\n",
       "      <td>3</td>\n",
       "      <td>143385.448479</td>\n",
       "      <td>122000.0</td>\n",
       "    </tr>\n",
       "    <tr>\n",
       "      <th>...</th>\n",
       "      <td>...</td>\n",
       "      <td>...</td>\n",
       "      <td>...</td>\n",
       "      <td>...</td>\n",
       "    </tr>\n",
       "    <tr>\n",
       "      <th>160741</th>\n",
       "      <td>Centerville</td>\n",
       "      <td>2</td>\n",
       "      <td>121424.136056</td>\n",
       "      <td>54166.0</td>\n",
       "    </tr>\n",
       "    <tr>\n",
       "      <th>160742</th>\n",
       "      <td>Five Points</td>\n",
       "      <td>3</td>\n",
       "      <td>141558.379375</td>\n",
       "      <td>66613.0</td>\n",
       "    </tr>\n",
       "    <tr>\n",
       "      <th>160743</th>\n",
       "      <td>Troy</td>\n",
       "      <td>2</td>\n",
       "      <td>116636.752454</td>\n",
       "      <td>48731.0</td>\n",
       "    </tr>\n",
       "    <tr>\n",
       "      <th>160744</th>\n",
       "      <td>Pleasant View</td>\n",
       "      <td>3</td>\n",
       "      <td>139072.177746</td>\n",
       "      <td>139766.0</td>\n",
       "    </tr>\n",
       "    <tr>\n",
       "      <th>160745</th>\n",
       "      <td>Sardis</td>\n",
       "      <td>2</td>\n",
       "      <td>117365.267350</td>\n",
       "      <td>29694.0</td>\n",
       "    </tr>\n",
       "  </tbody>\n",
       "</table>\n",
       "<p>160746 rows × 4 columns</p>\n",
       "</div>"
      ],
      "text/plain": [
       "                    0  1  Price Predictions  Actual Price\n",
       "0         White Bluff  4      158813.254295      103888.0\n",
       "1         Greeneville  2      119990.233721       66765.0\n",
       "2        Gordonsville  3      141303.977348      155469.0\n",
       "3              Shiloh  0       74760.907554       58908.0\n",
       "4       Andersonville  3      143385.448479      122000.0\n",
       "...               ... ..                ...           ...\n",
       "160741    Centerville  2      121424.136056       54166.0\n",
       "160742    Five Points  3      141558.379375       66613.0\n",
       "160743           Troy  2      116636.752454       48731.0\n",
       "160744  Pleasant View  3      139072.177746      139766.0\n",
       "160745         Sardis  2      117365.267350       29694.0\n",
       "\n",
       "[160746 rows x 4 columns]"
      ]
     },
     "execution_count": 12,
     "metadata": {},
     "output_type": "execute_result"
    }
   ],
   "source": [
    "X_test_inverse[\"Price Predictions\"]=y_pred\n",
    "X_test_inverse[\"Actual Price\"]=y_test.values\n",
    "X_test_inverse"
   ]
  },
  {
   "cell_type": "code",
   "execution_count": 13,
   "id": "632a30c2",
   "metadata": {},
   "outputs": [
    {
     "data": {
      "text/plain": [
       "191.75761683652766"
      ]
     },
     "execution_count": 13,
     "metadata": {},
     "output_type": "execute_result"
    }
   ],
   "source": [
    "X_test_inverse[\"Difference\"]=X_test_inverse[\"Price Predictions\"]-X_test_inverse[\"Actual Price\"]\n",
    "Average=X_test_inverse[\"Difference\"].values.mean()\n",
    "Average"
   ]
  },
  {
   "cell_type": "code",
   "execution_count": 14,
   "id": "22106e87",
   "metadata": {},
   "outputs": [
    {
     "name": "stdout",
     "output_type": "stream",
     "text": [
      "     0  1\n",
      "0  251  4\n"
     ]
    }
   ],
   "source": [
    "data = {\n",
    "  \"0\": [251],\n",
    "  \"1\": [4]\n",
    "}\n",
    "\n",
    "#load data into a DataFrame object:\n",
    "df2 = pd.DataFrame(data)\n",
    "\n",
    "print(df2) "
   ]
  },
  {
   "cell_type": "code",
   "execution_count": 15,
   "id": "a61757da",
   "metadata": {},
   "outputs": [
    {
     "data": {
      "text/plain": [
       "array([161831.38743565])"
      ]
     },
     "execution_count": 15,
     "metadata": {},
     "output_type": "execute_result"
    }
   ],
   "source": [
    "y_test=model.predict(df2)\n",
    "y_test"
   ]
  },
  {
   "cell_type": "code",
   "execution_count": 16,
   "id": "9f349b8d",
   "metadata": {},
   "outputs": [
    {
     "name": "stdout",
     "output_type": "stream",
     "text": [
      "[-1.15637285e+01  2.12212338e+04]\n",
      "79848.94809750054\n"
     ]
    }
   ],
   "source": [
    "print(model.coef_)\n",
    "print(model.intercept_)"
   ]
  },
  {
   "cell_type": "code",
   "execution_count": null,
   "id": "5abab70f",
   "metadata": {},
   "outputs": [],
   "source": []
  },
  {
   "cell_type": "code",
   "execution_count": 17,
   "id": "f6bbfcd0",
   "metadata": {},
   "outputs": [],
   "source": [
    "# import joblib\n",
    "# joblib.dump(model,\"Trained_Linear_Regression_Model.joblib\")"
   ]
  },
  {
   "cell_type": "code",
   "execution_count": null,
   "id": "b27f37c0",
   "metadata": {},
   "outputs": [],
   "source": []
  }
 ],
 "metadata": {
  "kernelspec": {
   "display_name": "mlenv",
   "language": "python",
   "name": "mlenv"
  },
  "language_info": {
   "codemirror_mode": {
    "name": "ipython",
    "version": 3
   },
   "file_extension": ".py",
   "mimetype": "text/x-python",
   "name": "python",
   "nbconvert_exporter": "python",
   "pygments_lexer": "ipython3",
   "version": "3.7.10"
  }
 },
 "nbformat": 4,
 "nbformat_minor": 5
}
