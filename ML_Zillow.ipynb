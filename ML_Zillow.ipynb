{
 "cells": [
  {
   "cell_type": "code",
   "execution_count": 40,
   "id": "2294ce4a",
   "metadata": {},
   "outputs": [],
   "source": [
    "import pandas as pd\n",
    "from pathlib import Path\n",
    "import matplotlib.pyplot as plt\n",
    "from sklearn.linear_model import LinearRegression\n",
    "import sqlalchemy as sqla\n",
    "import sqlite3 as sq\n",
    "import joblib\n",
    "import pickle\n",
    "from sklearn.preprocessing import OrdinalEncoder\n",
    "import datetime as dt\n",
    "from sklearn.model_selection import train_test_split"
   ]
  },
  {
   "cell_type": "code",
   "execution_count": 41,
   "id": "f0d3d942",
   "metadata": {},
   "outputs": [],
   "source": [
    "db = sqla.create_engine('sqlite:///zillow.db')"
   ]
  },
  {
   "cell_type": "code",
   "execution_count": 42,
   "id": "78d5c803",
   "metadata": {},
   "outputs": [],
   "source": [
    "df = pd.read_sql('SELECT * FROM zillow', db, parse_dates=['Date'])"
   ]
  },
  {
   "cell_type": "code",
   "execution_count": 43,
   "id": "22a666c4",
   "metadata": {
    "scrolled": false
   },
   "outputs": [
    {
     "data": {
      "text/html": [
       "<div>\n",
       "<style scoped>\n",
       "    .dataframe tbody tr th:only-of-type {\n",
       "        vertical-align: middle;\n",
       "    }\n",
       "\n",
       "    .dataframe tbody tr th {\n",
       "        vertical-align: top;\n",
       "    }\n",
       "\n",
       "    .dataframe thead th {\n",
       "        text-align: right;\n",
       "    }\n",
       "</style>\n",
       "<table border=\"1\" class=\"dataframe\">\n",
       "  <thead>\n",
       "    <tr style=\"text-align: right;\">\n",
       "      <th></th>\n",
       "      <th>Bedrooms</th>\n",
       "      <th>RegionName</th>\n",
       "      <th>Date</th>\n",
       "      <th>Price</th>\n",
       "    </tr>\n",
       "  </thead>\n",
       "  <tbody>\n",
       "    <tr>\n",
       "      <th>0</th>\n",
       "      <td>0</td>\n",
       "      <td>Memphis</td>\n",
       "      <td>1996-01-31</td>\n",
       "      <td>75490</td>\n",
       "    </tr>\n",
       "    <tr>\n",
       "      <th>1</th>\n",
       "      <td>0</td>\n",
       "      <td>Memphis</td>\n",
       "      <td>1996-02-29</td>\n",
       "      <td>75633</td>\n",
       "    </tr>\n",
       "    <tr>\n",
       "      <th>2</th>\n",
       "      <td>0</td>\n",
       "      <td>Memphis</td>\n",
       "      <td>1996-03-31</td>\n",
       "      <td>75801</td>\n",
       "    </tr>\n",
       "    <tr>\n",
       "      <th>3</th>\n",
       "      <td>0</td>\n",
       "      <td>Memphis</td>\n",
       "      <td>1996-04-30</td>\n",
       "      <td>76142</td>\n",
       "    </tr>\n",
       "    <tr>\n",
       "      <th>4</th>\n",
       "      <td>0</td>\n",
       "      <td>Memphis</td>\n",
       "      <td>1996-05-31</td>\n",
       "      <td>76524</td>\n",
       "    </tr>\n",
       "  </tbody>\n",
       "</table>\n",
       "</div>"
      ],
      "text/plain": [
       "   Bedrooms RegionName       Date  Price\n",
       "0         0    Memphis 1996-01-31  75490\n",
       "1         0    Memphis 1996-02-29  75633\n",
       "2         0    Memphis 1996-03-31  75801\n",
       "3         0    Memphis 1996-04-30  76142\n",
       "4         0    Memphis 1996-05-31  76524"
      ]
     },
     "execution_count": 43,
     "metadata": {},
     "output_type": "execute_result"
    }
   ],
   "source": [
    "df.head()"
   ]
  },
  {
   "cell_type": "code",
   "execution_count": 44,
   "id": "d6678ac8",
   "metadata": {},
   "outputs": [
    {
     "data": {
      "text/plain": [
       "Bedrooms               int64\n",
       "RegionName            object\n",
       "Date          datetime64[ns]\n",
       "Price                  int64\n",
       "dtype: object"
      ]
     },
     "execution_count": 44,
     "metadata": {},
     "output_type": "execute_result"
    }
   ],
   "source": [
    "df.dtypes"
   ]
  },
  {
   "cell_type": "code",
   "execution_count": 45,
   "id": "4caef9c5",
   "metadata": {},
   "outputs": [
    {
     "data": {
      "text/html": [
       "<div>\n",
       "<style scoped>\n",
       "    .dataframe tbody tr th:only-of-type {\n",
       "        vertical-align: middle;\n",
       "    }\n",
       "\n",
       "    .dataframe tbody tr th {\n",
       "        vertical-align: top;\n",
       "    }\n",
       "\n",
       "    .dataframe thead th {\n",
       "        text-align: right;\n",
       "    }\n",
       "</style>\n",
       "<table border=\"1\" class=\"dataframe\">\n",
       "  <thead>\n",
       "    <tr style=\"text-align: right;\">\n",
       "      <th></th>\n",
       "      <th>Bedrooms</th>\n",
       "      <th>RegionName</th>\n",
       "      <th>Date</th>\n",
       "      <th>Price</th>\n",
       "      <th>Year</th>\n",
       "    </tr>\n",
       "  </thead>\n",
       "  <tbody>\n",
       "    <tr>\n",
       "      <th>0</th>\n",
       "      <td>0</td>\n",
       "      <td>Memphis</td>\n",
       "      <td>1996-01-31</td>\n",
       "      <td>75490</td>\n",
       "      <td>1996</td>\n",
       "    </tr>\n",
       "    <tr>\n",
       "      <th>1</th>\n",
       "      <td>0</td>\n",
       "      <td>Memphis</td>\n",
       "      <td>1996-02-29</td>\n",
       "      <td>75633</td>\n",
       "      <td>1996</td>\n",
       "    </tr>\n",
       "    <tr>\n",
       "      <th>2</th>\n",
       "      <td>0</td>\n",
       "      <td>Memphis</td>\n",
       "      <td>1996-03-31</td>\n",
       "      <td>75801</td>\n",
       "      <td>1996</td>\n",
       "    </tr>\n",
       "    <tr>\n",
       "      <th>3</th>\n",
       "      <td>0</td>\n",
       "      <td>Memphis</td>\n",
       "      <td>1996-04-30</td>\n",
       "      <td>76142</td>\n",
       "      <td>1996</td>\n",
       "    </tr>\n",
       "    <tr>\n",
       "      <th>4</th>\n",
       "      <td>0</td>\n",
       "      <td>Memphis</td>\n",
       "      <td>1996-05-31</td>\n",
       "      <td>76524</td>\n",
       "      <td>1996</td>\n",
       "    </tr>\n",
       "    <tr>\n",
       "      <th>...</th>\n",
       "      <td>...</td>\n",
       "      <td>...</td>\n",
       "      <td>...</td>\n",
       "      <td>...</td>\n",
       "      <td>...</td>\n",
       "    </tr>\n",
       "    <tr>\n",
       "      <th>642976</th>\n",
       "      <td>5</td>\n",
       "      <td>Braden</td>\n",
       "      <td>2019-11-30</td>\n",
       "      <td>266558</td>\n",
       "      <td>2019</td>\n",
       "    </tr>\n",
       "    <tr>\n",
       "      <th>642977</th>\n",
       "      <td>5</td>\n",
       "      <td>Braden</td>\n",
       "      <td>2019-12-31</td>\n",
       "      <td>269833</td>\n",
       "      <td>2019</td>\n",
       "    </tr>\n",
       "    <tr>\n",
       "      <th>642978</th>\n",
       "      <td>5</td>\n",
       "      <td>Braden</td>\n",
       "      <td>2020-01-31</td>\n",
       "      <td>271472</td>\n",
       "      <td>2020</td>\n",
       "    </tr>\n",
       "    <tr>\n",
       "      <th>642979</th>\n",
       "      <td>5</td>\n",
       "      <td>Braden</td>\n",
       "      <td>2020-02-29</td>\n",
       "      <td>276641</td>\n",
       "      <td>2020</td>\n",
       "    </tr>\n",
       "    <tr>\n",
       "      <th>642980</th>\n",
       "      <td>5</td>\n",
       "      <td>Braden</td>\n",
       "      <td>2020-03-31</td>\n",
       "      <td>281210</td>\n",
       "      <td>2020</td>\n",
       "    </tr>\n",
       "  </tbody>\n",
       "</table>\n",
       "<p>642981 rows × 5 columns</p>\n",
       "</div>"
      ],
      "text/plain": [
       "        Bedrooms RegionName       Date   Price  Year\n",
       "0              0    Memphis 1996-01-31   75490  1996\n",
       "1              0    Memphis 1996-02-29   75633  1996\n",
       "2              0    Memphis 1996-03-31   75801  1996\n",
       "3              0    Memphis 1996-04-30   76142  1996\n",
       "4              0    Memphis 1996-05-31   76524  1996\n",
       "...          ...        ...        ...     ...   ...\n",
       "642976         5     Braden 2019-11-30  266558  2019\n",
       "642977         5     Braden 2019-12-31  269833  2019\n",
       "642978         5     Braden 2020-01-31  271472  2020\n",
       "642979         5     Braden 2020-02-29  276641  2020\n",
       "642980         5     Braden 2020-03-31  281210  2020\n",
       "\n",
       "[642981 rows x 5 columns]"
      ]
     },
     "execution_count": 45,
     "metadata": {},
     "output_type": "execute_result"
    }
   ],
   "source": [
    "df['Year'] = df['Date'].dt.year\n",
    "df"
   ]
  },
  {
   "cell_type": "code",
   "execution_count": 46,
   "id": "0070b5ef",
   "metadata": {},
   "outputs": [],
   "source": [
    "dfNash = df.loc[(df['Bedrooms'] != 0) & (df['RegionName'] == 'Nashville')]\n"
   ]
  },
  {
   "cell_type": "code",
   "execution_count": 47,
   "id": "323ff46a",
   "metadata": {},
   "outputs": [
    {
     "data": {
      "text/html": [
       "<div>\n",
       "<style scoped>\n",
       "    .dataframe tbody tr th:only-of-type {\n",
       "        vertical-align: middle;\n",
       "    }\n",
       "\n",
       "    .dataframe tbody tr th {\n",
       "        vertical-align: top;\n",
       "    }\n",
       "\n",
       "    .dataframe thead th {\n",
       "        text-align: right;\n",
       "    }\n",
       "</style>\n",
       "<table border=\"1\" class=\"dataframe\">\n",
       "  <thead>\n",
       "    <tr style=\"text-align: right;\">\n",
       "      <th></th>\n",
       "      <th>Bedrooms</th>\n",
       "      <th>RegionName</th>\n",
       "      <th>Date</th>\n",
       "      <th>Price</th>\n",
       "      <th>Year</th>\n",
       "    </tr>\n",
       "  </thead>\n",
       "  <tbody>\n",
       "    <tr>\n",
       "      <th>146915</th>\n",
       "      <td>1</td>\n",
       "      <td>Nashville</td>\n",
       "      <td>1996-01-31</td>\n",
       "      <td>79184</td>\n",
       "      <td>1996</td>\n",
       "    </tr>\n",
       "    <tr>\n",
       "      <th>146916</th>\n",
       "      <td>1</td>\n",
       "      <td>Nashville</td>\n",
       "      <td>1996-02-29</td>\n",
       "      <td>79502</td>\n",
       "      <td>1996</td>\n",
       "    </tr>\n",
       "    <tr>\n",
       "      <th>146917</th>\n",
       "      <td>1</td>\n",
       "      <td>Nashville</td>\n",
       "      <td>1996-03-31</td>\n",
       "      <td>79606</td>\n",
       "      <td>1996</td>\n",
       "    </tr>\n",
       "    <tr>\n",
       "      <th>146918</th>\n",
       "      <td>1</td>\n",
       "      <td>Nashville</td>\n",
       "      <td>1996-04-30</td>\n",
       "      <td>80070</td>\n",
       "      <td>1996</td>\n",
       "    </tr>\n",
       "    <tr>\n",
       "      <th>146919</th>\n",
       "      <td>1</td>\n",
       "      <td>Nashville</td>\n",
       "      <td>1996-05-31</td>\n",
       "      <td>80458</td>\n",
       "      <td>1996</td>\n",
       "    </tr>\n",
       "    <tr>\n",
       "      <th>...</th>\n",
       "      <td>...</td>\n",
       "      <td>...</td>\n",
       "      <td>...</td>\n",
       "      <td>...</td>\n",
       "      <td>...</td>\n",
       "    </tr>\n",
       "    <tr>\n",
       "      <th>563141</th>\n",
       "      <td>5</td>\n",
       "      <td>Nashville</td>\n",
       "      <td>2019-11-30</td>\n",
       "      <td>602373</td>\n",
       "      <td>2019</td>\n",
       "    </tr>\n",
       "    <tr>\n",
       "      <th>563142</th>\n",
       "      <td>5</td>\n",
       "      <td>Nashville</td>\n",
       "      <td>2019-12-31</td>\n",
       "      <td>605587</td>\n",
       "      <td>2019</td>\n",
       "    </tr>\n",
       "    <tr>\n",
       "      <th>563143</th>\n",
       "      <td>5</td>\n",
       "      <td>Nashville</td>\n",
       "      <td>2020-01-31</td>\n",
       "      <td>608967</td>\n",
       "      <td>2020</td>\n",
       "    </tr>\n",
       "    <tr>\n",
       "      <th>563144</th>\n",
       "      <td>5</td>\n",
       "      <td>Nashville</td>\n",
       "      <td>2020-02-29</td>\n",
       "      <td>612371</td>\n",
       "      <td>2020</td>\n",
       "    </tr>\n",
       "    <tr>\n",
       "      <th>563145</th>\n",
       "      <td>5</td>\n",
       "      <td>Nashville</td>\n",
       "      <td>2020-03-31</td>\n",
       "      <td>616725</td>\n",
       "      <td>2020</td>\n",
       "    </tr>\n",
       "  </tbody>\n",
       "</table>\n",
       "<p>1455 rows × 5 columns</p>\n",
       "</div>"
      ],
      "text/plain": [
       "        Bedrooms RegionName       Date   Price  Year\n",
       "146915         1  Nashville 1996-01-31   79184  1996\n",
       "146916         1  Nashville 1996-02-29   79502  1996\n",
       "146917         1  Nashville 1996-03-31   79606  1996\n",
       "146918         1  Nashville 1996-04-30   80070  1996\n",
       "146919         1  Nashville 1996-05-31   80458  1996\n",
       "...          ...        ...        ...     ...   ...\n",
       "563141         5  Nashville 2019-11-30  602373  2019\n",
       "563142         5  Nashville 2019-12-31  605587  2019\n",
       "563143         5  Nashville 2020-01-31  608967  2020\n",
       "563144         5  Nashville 2020-02-29  612371  2020\n",
       "563145         5  Nashville 2020-03-31  616725  2020\n",
       "\n",
       "[1455 rows x 5 columns]"
      ]
     },
     "execution_count": 47,
     "metadata": {},
     "output_type": "execute_result"
    }
   ],
   "source": [
    "dfNash"
   ]
  },
  {
   "cell_type": "code",
   "execution_count": 48,
   "id": "0d4aaf9f",
   "metadata": {},
   "outputs": [
    {
     "data": {
      "text/plain": [
       "Text(0, 0.5, '$ Price')"
      ]
     },
     "execution_count": 48,
     "metadata": {},
     "output_type": "execute_result"
    },
    {
     "data": {
      "image/png": "[encoded data removed]",
      "text/plain": [
       "<Figure size 864x504 with 1 Axes>"
      ]
     },
     "metadata": {
      "needs_background": "light"
     },
     "output_type": "display_data"
    }
   ],
   "source": [
    "plt.figure(figsize = (12, 7))\n",
    "plt.plot(dfNash[\"Year\"], dfNash[\"Price\"], \n",
    "         color='goldenrod', lw=2)\n",
    "plt.title(\"Price over time\", size=25)\n",
    "plt.xlabel(\"Time\", size=20)\n",
    "plt.ylabel(\"$ Price\", size=20)"
   ]
  },
  {
   "cell_type": "code",
   "execution_count": 49,
   "id": "71057f7a",
   "metadata": {},
   "outputs": [
    {
     "name": "stdout",
     "output_type": "stream",
     "text": [
      "<class 'pandas.core.frame.DataFrame'>\n",
      "Int64Index: 1455 entries, 146915 to 563145\n",
      "Data columns (total 5 columns):\n",
      " #   Column      Non-Null Count  Dtype         \n",
      "---  ------      --------------  -----         \n",
      " 0   Bedrooms    1455 non-null   int64         \n",
      " 1   RegionName  1455 non-null   object        \n",
      " 2   Date        1455 non-null   datetime64[ns]\n",
      " 3   Price       1455 non-null   int64         \n",
      " 4   Year        1455 non-null   int64         \n",
      "dtypes: datetime64[ns](1), int64(3), object(1)\n",
      "memory usage: 68.2+ KB\n"
     ]
    }
   ],
   "source": [
    "dfNash.info()"
   ]
  },
  {
   "cell_type": "code",
   "execution_count": 50,
   "id": "95d572be",
   "metadata": {},
   "outputs": [],
   "source": [
    "features = ['Bedrooms','Year']\n",
    "output_label = 'Price'"
   ]
  },
  {
   "cell_type": "code",
   "execution_count": 51,
   "id": "63292a39",
   "metadata": {},
   "outputs": [],
   "source": [
    "x_train, x_test, y_train, y_test = train_test_split(\n",
    "    dfNash[features],\n",
    "    dfNash[output_label],\n",
    "    test_size = 0.3)"
   ]
  },
  {
   "cell_type": "code",
   "execution_count": 52,
   "id": "20cf0f93",
   "metadata": {
    "scrolled": true
   },
   "outputs": [
    {
     "data": {
      "text/plain": [
       "Bedrooms    int64\n",
       "Year        int64\n",
       "dtype: object"
      ]
     },
     "execution_count": 52,
     "metadata": {},
     "output_type": "execute_result"
    }
   ],
   "source": [
    "x_train.dtypes"
   ]
  },
  {
   "cell_type": "code",
   "execution_count": 53,
   "id": "1366e646",
   "metadata": {},
   "outputs": [
    {
     "data": {
      "text/plain": [
       "LinearRegression()"
      ]
     },
     "execution_count": 53,
     "metadata": {},
     "output_type": "execute_result"
    }
   ],
   "source": [
    "model = LinearRegression()\n",
    "model.fit(x_train, y_train)"
   ]
  },
  {
   "cell_type": "code",
   "execution_count": 54,
   "id": "3193890b",
   "metadata": {},
   "outputs": [
    {
     "data": {
      "text/plain": [
       "0.8056906621731479"
      ]
     },
     "execution_count": 54,
     "metadata": {},
     "output_type": "execute_result"
    }
   ],
   "source": [
    "model.score(x_test, y_test)"
   ]
  },
  {
   "cell_type": "code",
   "execution_count": 55,
   "id": "8afaae66",
   "metadata": {},
   "outputs": [
    {
     "name": "stdout",
     "output_type": "stream",
     "text": [
      "(437,)\n"
     ]
    }
   ],
   "source": [
    "# Predict() method is used to generate a prediciton\n",
    "y_pred = model.predict(x_test)\n",
    "print(y_pred.shape)"
   ]
  },
  {
   "cell_type": "code",
   "execution_count": 56,
   "id": "94cd58f7",
   "metadata": {
    "scrolled": true
   },
   "outputs": [
    {
     "data": {
      "text/html": [
       "<div>\n",
       "<style scoped>\n",
       "    .dataframe tbody tr th:only-of-type {\n",
       "        vertical-align: middle;\n",
       "    }\n",
       "\n",
       "    .dataframe tbody tr th {\n",
       "        vertical-align: top;\n",
       "    }\n",
       "\n",
       "    .dataframe thead th {\n",
       "        text-align: right;\n",
       "    }\n",
       "</style>\n",
       "<table border=\"1\" class=\"dataframe\">\n",
       "  <thead>\n",
       "    <tr style=\"text-align: right;\">\n",
       "      <th></th>\n",
       "      <th>Bedrooms</th>\n",
       "      <th>Year</th>\n",
       "      <th>Price Predictions</th>\n",
       "      <th>Actual Price</th>\n",
       "    </tr>\n",
       "  </thead>\n",
       "  <tbody>\n",
       "    <tr>\n",
       "      <th>562989</th>\n",
       "      <td>5</td>\n",
       "      <td>2007</td>\n",
       "      <td>341174.295349</td>\n",
       "      <td>424871</td>\n",
       "    </tr>\n",
       "    <tr>\n",
       "      <th>445425</th>\n",
       "      <td>4</td>\n",
       "      <td>2005</td>\n",
       "      <td>263505.822955</td>\n",
       "      <td>250184</td>\n",
       "    </tr>\n",
       "    <tr>\n",
       "      <th>445583</th>\n",
       "      <td>4</td>\n",
       "      <td>2018</td>\n",
       "      <td>359605.751562</td>\n",
       "      <td>382781</td>\n",
       "    </tr>\n",
       "    <tr>\n",
       "      <th>562933</th>\n",
       "      <td>5</td>\n",
       "      <td>2002</td>\n",
       "      <td>304212.784346</td>\n",
       "      <td>318800</td>\n",
       "    </tr>\n",
       "    <tr>\n",
       "      <th>147010</th>\n",
       "      <td>1</td>\n",
       "      <td>2003</td>\n",
       "      <td>60069.614573</td>\n",
       "      <td>113704</td>\n",
       "    </tr>\n",
       "    <tr>\n",
       "      <th>...</th>\n",
       "      <td>...</td>\n",
       "      <td>...</td>\n",
       "      <td>...</td>\n",
       "      <td>...</td>\n",
       "    </tr>\n",
       "    <tr>\n",
       "      <th>188030</th>\n",
       "      <td>2</td>\n",
       "      <td>2004</td>\n",
       "      <td>130345.784767</td>\n",
       "      <td>119559</td>\n",
       "    </tr>\n",
       "    <tr>\n",
       "      <th>562882</th>\n",
       "      <td>5</td>\n",
       "      <td>1998</td>\n",
       "      <td>274643.575544</td>\n",
       "      <td>268219</td>\n",
       "    </tr>\n",
       "    <tr>\n",
       "      <th>563104</th>\n",
       "      <td>5</td>\n",
       "      <td>2016</td>\n",
       "      <td>407705.015155</td>\n",
       "      <td>516077</td>\n",
       "    </tr>\n",
       "    <tr>\n",
       "      <th>562891</th>\n",
       "      <td>5</td>\n",
       "      <td>1999</td>\n",
       "      <td>282035.877744</td>\n",
       "      <td>280383</td>\n",
       "    </tr>\n",
       "    <tr>\n",
       "      <th>308413</th>\n",
       "      <td>3</td>\n",
       "      <td>2012</td>\n",
       "      <td>252368.070365</td>\n",
       "      <td>157096</td>\n",
       "    </tr>\n",
       "  </tbody>\n",
       "</table>\n",
       "<p>437 rows × 4 columns</p>\n",
       "</div>"
      ],
      "text/plain": [
       "        Bedrooms  Year  Price Predictions  Actual Price\n",
       "562989         5  2007      341174.295349        424871\n",
       "445425         4  2005      263505.822955        250184\n",
       "445583         4  2018      359605.751562        382781\n",
       "562933         5  2002      304212.784346        318800\n",
       "147010         1  2003       60069.614573        113704\n",
       "...          ...   ...                ...           ...\n",
       "188030         2  2004      130345.784767        119559\n",
       "562882         5  1998      274643.575544        268219\n",
       "563104         5  2016      407705.015155        516077\n",
       "562891         5  1999      282035.877744        280383\n",
       "308413         3  2012      252368.070365        157096\n",
       "\n",
       "[437 rows x 4 columns]"
      ]
     },
     "execution_count": 56,
     "metadata": {},
     "output_type": "execute_result"
    }
   ],
   "source": [
    "x_test[\"Price Predictions\"]=y_pred\n",
    "x_test[\"Actual Price\"]=y_test.values\n",
    "x_test"
   ]
  },
  {
   "cell_type": "code",
   "execution_count": 57,
   "id": "2496793c",
   "metadata": {},
   "outputs": [
    {
     "data": {
      "text/plain": [
       "-114.98538714318666"
      ]
     },
     "execution_count": 57,
     "metadata": {},
     "output_type": "execute_result"
    }
   ],
   "source": [
    "x_test[\"Difference\"]=x_test[\"Price Predictions\"]-x_test[\"Actual Price\"]\n",
    "Average=x_test[\"Difference\"].values.mean()\n",
    "Average"
   ]
  },
  {
   "cell_type": "code",
   "execution_count": 76,
   "id": "ac469fd5",
   "metadata": {},
   "outputs": [
    {
     "name": "stdout",
     "output_type": "stream",
     "text": [
      "   Bedrooms  Year\n",
      "0         4  2025\n"
     ]
    }
   ],
   "source": [
    "data = {\n",
    "  \"Bedrooms\": [4],\n",
    "  'Year': [2025]\n",
    "  \n",
    "}\n",
    "\n",
    "#load data into a DataFrame object:\n",
    "df2 = pd.DataFrame(data)\n",
    "\n",
    "print(df2) "
   ]
  },
  {
   "cell_type": "code",
   "execution_count": 77,
   "id": "480ad32b",
   "metadata": {},
   "outputs": [
    {
     "data": {
      "text/plain": [
       "array([411351.86696669])"
      ]
     },
     "execution_count": 77,
     "metadata": {},
     "output_type": "execute_result"
    }
   ],
   "source": [
    "y_test=model.predict(df2)\n",
    "y_test"
   ]
  },
  {
   "cell_type": "code",
   "execution_count": 60,
   "id": "78aa5e76",
   "metadata": {},
   "outputs": [
    {
     "name": "stdout",
     "output_type": "stream",
     "text": [
      "[62883.86799344  7392.3022006 ]\n",
      "-14809595.561229605\n"
     ]
    }
   ],
   "source": [
    "print(model.coef_)\n",
    "print(model.intercept_)"
   ]
  },
  {
   "cell_type": "code",
   "execution_count": null,
   "id": "c93058b7",
   "metadata": {},
   "outputs": [],
   "source": [
    "# use predict method predict(X) X=all values as a list \n",
    "# https://scikit-learn.org/stable/modules/generated/sklearn.linear_model.LinearRegression.html#sklearn.linear_model.LinearRegression.predict\n"
   ]
  }
 ],
 "metadata": {
  "kernelspec": {
   "display_name": "mlenv",
   "language": "python",
   "name": "mlenv"
  },
  "language_info": {
   "codemirror_mode": {
    "name": "ipython",
    "version": 3
   },
   "file_extension": ".py",
   "mimetype": "text/x-python",
   "name": "python",
   "nbconvert_exporter": "python",
   "pygments_lexer": "ipython3",
   "version": "3.7.10"
  }
 },
 "nbformat": 4,
 "nbformat_minor": 5
}
