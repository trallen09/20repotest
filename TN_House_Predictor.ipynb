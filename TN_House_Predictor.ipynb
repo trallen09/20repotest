{
 "cells": [
  {
   "cell_type": "code",
   "execution_count": 1,
   "id": "2d3cfa10",
   "metadata": {},
   "outputs": [],
   "source": [
    "import pandas as pd\n",
    "from pathlib import Path\n",
    "import matplotlib.pyplot as plt\n",
    "from sklearn.linear_model import LinearRegression\n",
    "import sqlalchemy as sqla\n",
    "import sqlite3 as sq\n",
    "import joblib\n",
    "import pickle\n",
    "from sklearn.preprocessing import OrdinalEncoder\n",
    "import datetime as dt\n",
    "from sklearn.model_selection import train_test_split"
   ]
  },
  {
   "cell_type": "code",
   "execution_count": 2,
   "id": "5c90aaf1",
   "metadata": {},
   "outputs": [],
   "source": [
    "db = sqla.create_engine('sqlite:///zillow.db')\n",
    "df = pd.read_sql('SELECT * FROM zillow', db, parse_dates=['Date'])"
   ]
  },
  {
   "cell_type": "code",
   "execution_count": 3,
   "id": "b436d7ec",
   "metadata": {},
   "outputs": [],
   "source": [
    "df['Year'] = df['Date'].dt.year"
   ]
  },
  {
   "cell_type": "code",
   "execution_count": 4,
   "id": "74161706",
   "metadata": {},
   "outputs": [],
   "source": [
    "def TN_House_Predictor(City,Bedrooms,Year):\n",
    "    df_func = df.loc[(df['Bedrooms'] != 0) & (df['RegionName'] == City)]\n",
    "    features = ['Bedrooms','Year']\n",
    "    output_label = 'Price'\n",
    "    x_train, x_test, y_train, y_test = train_test_split(\n",
    "        df_func[features],\n",
    "        df_func[output_label],\n",
    "        test_size = 0.3)\n",
    "    model = LinearRegression()\n",
    "    model.fit(x_train, y_train)\n",
    "    data = {'Bedrooms': [Bedrooms],'Year': [Year]}\n",
    "    df2 = pd.DataFrame(data)\n",
    "    y_test=model.predict(df2)\n",
    "    return y_test\n",
    "            "
   ]
  },
  {
   "cell_type": "code",
   "execution_count": 14,
   "id": "57a5627f",
   "metadata": {
    "scrolled": true
   },
   "outputs": [
    {
     "data": {
      "text/plain": [
       "array([141486.33055416])"
      ]
     },
     "execution_count": 14,
     "metadata": {},
     "output_type": "execute_result"
    }
   ],
   "source": [
    "TN_House_Predictor('Woodbury',3,2020)"
   ]
  },
  {
   "cell_type": "code",
   "execution_count": null,
   "id": "413a7452",
   "metadata": {},
   "outputs": [],
   "source": []
  }
 ],
 "metadata": {
  "kernelspec": {
   "display_name": "mlenv",
   "language": "python",
   "name": "mlenv"
  },
  "language_info": {
   "codemirror_mode": {
    "name": "ipython",
    "version": 3
   },
   "file_extension": ".py",
   "mimetype": "text/x-python",
   "name": "python",
   "nbconvert_exporter": "python",
   "pygments_lexer": "ipython3",
   "version": "3.7.10"
  }
 },
 "nbformat": 4,
 "nbformat_minor": 5
}
